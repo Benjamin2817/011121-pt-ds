{
 "cells": [
  {
   "cell_type": "markdown",
   "metadata": {},
   "source": [
    "# Pandas Practice - Pt 1"
   ]
  },
  {
   "cell_type": "code",
   "execution_count": 1,
   "metadata": {
    "ExecuteTime": {
     "end_time": "2020-11-24T23:10:32.932377Z",
     "start_time": "2020-11-24T23:10:32.315939Z"
    }
   },
   "outputs": [],
   "source": [
    "# Run this cell unchanged\n",
    "\n",
    "import pandas as pd\n",
    "import os\n",
    "import sys\n",
    "import numpy as np\n",
    "import matplotlib.pyplot as plt\n",
    "sys.path.append(os.path.join(os.pardir, os.pardir))\n",
    "\n",
    "#used for tests\n",
    "#testing\n",
    "from src.test_class import Test\n",
    "testing = Test()"
   ]
  },
  {
   "cell_type": "markdown",
   "metadata": {},
   "source": [
    "## Importing data with relative paths."
   ]
  },
  {
   "cell_type": "markdown",
   "metadata": {},
   "source": [
    "The file structure of this repository looks like this:\n",
    "\n",
    "\n",
    "- `data`\n",
    "\n",
    "    - 2019-il-vgambling.csv\n",
    "\n",
    "- `src`\n",
    "    - test_class.py\n",
    "\n",
    "- `study-group-materials`\n",
    "    - `functions`\n",
    "        - `data`\n",
    "            - example-dataset-3.csv\n",
    "    - `pandas-1`\n",
    "        - **Our current location**\n",
    "        - example-dataset.csv\n",
    "    - example-dataset-2.csv\n",
    "\n",
    "- `README.md`\n",
    "\n",
    "> `code block indicates a folder`."
   ]
  },
  {
   "cell_type": "markdown",
   "metadata": {},
   "source": [
    "### Task 1\n",
    "- Please create a variable `example_path_1` that points to the `example-dataset-1.csv` file.\n",
    "- Import the `example-dataset-1.csv` file using pandas and save the dataframe to the variable `example_1`."
   ]
  },
  {
   "cell_type": "code",
   "execution_count": 2,
   "metadata": {
    "ExecuteTime": {
     "end_time": "2020-11-24T23:11:46.958700Z",
     "start_time": "2020-11-24T23:11:46.952760Z"
    }
   },
   "outputs": [],
   "source": [
    "example_path_1 = 'example-dataset-1.csv'\n",
    "example_1 = pd.read_csv(example_path_1)"
   ]
  },
  {
   "cell_type": "markdown",
   "metadata": {},
   "source": [
    "### Task 2\n",
    "- Please create a variable `example_path_2` that points to the `example-dataset-2.csv` file.\n",
    "- Import the `example-dataset-2.csv` file using pandas and save the dataframe to the variable `example_2`."
   ]
  },
  {
   "cell_type": "code",
   "execution_count": 7,
   "metadata": {
    "ExecuteTime": {
     "end_time": "2020-11-24T23:15:58.898327Z",
     "start_time": "2020-11-24T23:15:58.892046Z"
    }
   },
   "outputs": [],
   "source": [
    "example_path_2 = '../example-dataset-2.csv'\n",
    "example_path_2_with_os = os.path.join(os.pardir, 'example-dataset-2.csv')\n",
    "example_2 = pd.read_csv(example_path_2)"
   ]
  },
  {
   "cell_type": "code",
   "execution_count": 5,
   "metadata": {
    "ExecuteTime": {
     "end_time": "2020-11-24T23:15:11.957371Z",
     "start_time": "2020-11-24T23:15:11.953960Z"
    }
   },
   "outputs": [
    {
     "data": {
      "text/plain": [
       "True"
      ]
     },
     "execution_count": 5,
     "metadata": {},
     "output_type": "execute_result"
    }
   ],
   "source": [
    "example_path_2 == example_path_2_with_os"
   ]
  },
  {
   "cell_type": "code",
   "execution_count": 6,
   "metadata": {
    "ExecuteTime": {
     "end_time": "2020-11-24T23:15:32.263209Z",
     "start_time": "2020-11-24T23:15:32.259238Z"
    }
   },
   "outputs": [
    {
     "data": {
      "text/plain": [
       "'my/name/is/joel'"
      ]
     },
     "execution_count": 6,
     "metadata": {},
     "output_type": "execute_result"
    }
   ],
   "source": [
    "os.path.join('my', 'name', 'is', 'joel')"
   ]
  },
  {
   "cell_type": "markdown",
   "metadata": {},
   "source": [
    "### Task 3\n",
    "- Create a variable `example_path_3` that points to the `example-dataset-3.xls` file.\n",
    "- Import the `example-dataset-3.xls` file using pandas and save the dataframe to the variable `example_3`."
   ]
  },
  {
   "cell_type": "code",
   "execution_count": 8,
   "metadata": {
    "ExecuteTime": {
     "end_time": "2020-11-24T23:18:29.593215Z",
     "start_time": "2020-11-24T23:18:29.556197Z"
    }
   },
   "outputs": [],
   "source": [
    "# your code here\n",
    "example_path_3 = '../functions/data/example-dataset-3.xls'\n",
    "example_3 = pd.read_excel(example_path_3)"
   ]
  },
  {
   "cell_type": "markdown",
   "metadata": {},
   "source": [
    ">**Note:** Different operating systems use different seperators for file paths. To ensure code works on different operating systems, a standard solution is to generate file paths using the `os` library. [Documentation here](https://docs.python.org/3.4/library/os.html?highlight=os)\n",
    "\n",
    "**Let's create the `example_path_3` using `os`**"
   ]
  },
  {
   "cell_type": "code",
   "execution_count": 9,
   "metadata": {
    "ExecuteTime": {
     "end_time": "2020-11-24T23:19:34.303631Z",
     "start_time": "2020-11-24T23:19:34.299832Z"
    }
   },
   "outputs": [
    {
     "data": {
      "text/plain": [
       "'../functions/data/example-dataset-3.xls'"
      ]
     },
     "execution_count": 9,
     "metadata": {},
     "output_type": "execute_result"
    }
   ],
   "source": [
    "# Your code here\n",
    "os.path.join(os.pardir, 'functions', 'data', 'example-dataset-3.xls')"
   ]
  },
  {
   "cell_type": "markdown",
   "metadata": {},
   "source": [
    "# Video Gambling Data and Pandas 🧐\n",
    "<img src=\"https://media.tegna-media.com/assets/WQAD/images/01c4abef-ca79-4b9b-b3f7-2ad2e856b34b/01c4abef-ca79-4b9b-b3f7-2ad2e856b34b_750x422.jpg\" width=\"460\"/>\n",
    "\n",
    "### *Video gambling, in Illinois, was legalized in 2012.*\n",
    "\n",
    ">Since then, it has become a boon for local bars, restaurants, and communities with declining tax revenue, but comes with public health concerns of gambling addition.\n",
    "Because of this Video Gambling is a frequent issue voted on by municipal governments in Illinois. \n",
    "\n",
    ">Video Gambling is closely monitored by the [Illinois Gaming Board](https://www.igb.illinois.gov/) and has been the subject of much reporting by local news agencies.\n",
    "\n",
    "**Let's use our skills with Pandas to investigate this topic.**"
   ]
  },
  {
   "cell_type": "markdown",
   "metadata": {},
   "source": [
    "### Task 4\n",
    "\n",
    "**Our data is located** within the top level ```data``` folder of this repo.\n",
    "\n",
    "It is titled ```2019-il-vgambling.csv```\n",
    "\n",
    "<u>In the cell below:</u> \n",
    "1. Set the ```path``` variable to the path ```2019-il-vgambling.csv```. \n",
    "2. Import the video gambling data and save the dataframe to the variable `df`."
   ]
  },
  {
   "cell_type": "code",
   "execution_count": 10,
   "metadata": {
    "ExecuteTime": {
     "end_time": "2020-11-24T23:24:04.254388Z",
     "start_time": "2020-11-24T23:24:04.248588Z"
    }
   },
   "outputs": [],
   "source": [
    "# Your code here\n",
    "path = '../../data/2019-il-vgambling.csv'\n",
    "df = pd.read_csv(path)"
   ]
  },
  {
   "cell_type": "markdown",
   "metadata": {},
   "source": [
    "**Ok,** let's print out the first 5 rows."
   ]
  },
  {
   "cell_type": "code",
   "execution_count": 11,
   "metadata": {
    "ExecuteTime": {
     "end_time": "2020-11-24T23:24:12.086917Z",
     "start_time": "2020-11-24T23:24:12.073967Z"
    }
   },
   "outputs": [
    {
     "data": {
      "text/html": [
       "<div>\n",
       "<style scoped>\n",
       "    .dataframe tbody tr th:only-of-type {\n",
       "        vertical-align: middle;\n",
       "    }\n",
       "\n",
       "    .dataframe tbody tr th {\n",
       "        vertical-align: top;\n",
       "    }\n",
       "\n",
       "    .dataframe thead th {\n",
       "        text-align: right;\n",
       "    }\n",
       "</style>\n",
       "<table border=\"1\" class=\"dataframe\">\n",
       "  <thead>\n",
       "    <tr style=\"text-align: right;\">\n",
       "      <th></th>\n",
       "      <th>Municipality</th>\n",
       "      <th>Establishment Count</th>\n",
       "      <th>Terminal Count</th>\n",
       "      <th>Amount Played</th>\n",
       "      <th>Amount Won</th>\n",
       "      <th>Nti Tax</th>\n",
       "      <th>State Share</th>\n",
       "      <th>Municipality Share</th>\n",
       "      <th>Population</th>\n",
       "    </tr>\n",
       "  </thead>\n",
       "  <tbody>\n",
       "    <tr>\n",
       "      <th>0</th>\n",
       "      <td>Oregon</td>\n",
       "      <td>13</td>\n",
       "      <td>58</td>\n",
       "      <td>30182428.57</td>\n",
       "      <td>27583763.32</td>\n",
       "      <td>818444.23</td>\n",
       "      <td>688505.69</td>\n",
       "      <td>129938.54</td>\n",
       "      <td>3,683</td>\n",
       "    </tr>\n",
       "    <tr>\n",
       "      <th>1</th>\n",
       "      <td>Oakwood Hills</td>\n",
       "      <td>1</td>\n",
       "      <td>4</td>\n",
       "      <td>216669.74</td>\n",
       "      <td>199790.23</td>\n",
       "      <td>5281.38</td>\n",
       "      <td>4433.69</td>\n",
       "      <td>847.69</td>\n",
       "      <td>2,245</td>\n",
       "    </tr>\n",
       "    <tr>\n",
       "      <th>2</th>\n",
       "      <td>Merrionette Park</td>\n",
       "      <td>4</td>\n",
       "      <td>17</td>\n",
       "      <td>26567816.26</td>\n",
       "      <td>24324921.75</td>\n",
       "      <td>706616.85</td>\n",
       "      <td>594470.85</td>\n",
       "      <td>112146.00</td>\n",
       "      <td>2,163</td>\n",
       "    </tr>\n",
       "    <tr>\n",
       "      <th>3</th>\n",
       "      <td>Ashkum</td>\n",
       "      <td>2</td>\n",
       "      <td>8</td>\n",
       "      <td>2289711.66</td>\n",
       "      <td>2113123.06</td>\n",
       "      <td>55674.55</td>\n",
       "      <td>46845.11</td>\n",
       "      <td>8829.44</td>\n",
       "      <td>800</td>\n",
       "    </tr>\n",
       "    <tr>\n",
       "      <th>4</th>\n",
       "      <td>Grandview</td>\n",
       "      <td>5</td>\n",
       "      <td>25</td>\n",
       "      <td>13713301.51</td>\n",
       "      <td>12475853.83</td>\n",
       "      <td>390048.01</td>\n",
       "      <td>328175.50</td>\n",
       "      <td>61872.51</td>\n",
       "      <td>1,453</td>\n",
       "    </tr>\n",
       "  </tbody>\n",
       "</table>\n",
       "</div>"
      ],
      "text/plain": [
       "       Municipality  Establishment Count  Terminal Count  Amount Played  \\\n",
       "0            Oregon                   13              58    30182428.57   \n",
       "1     Oakwood Hills                    1               4      216669.74   \n",
       "2  Merrionette Park                    4              17    26567816.26   \n",
       "3            Ashkum                    2               8     2289711.66   \n",
       "4         Grandview                    5              25    13713301.51   \n",
       "\n",
       "    Amount Won    Nti Tax  State Share  Municipality Share Population  \n",
       "0  27583763.32  818444.23    688505.69           129938.54      3,683  \n",
       "1    199790.23    5281.38      4433.69              847.69      2,245  \n",
       "2  24324921.75  706616.85    594470.85           112146.00      2,163  \n",
       "3   2113123.06   55674.55     46845.11             8829.44        800  \n",
       "4  12475853.83  390048.01    328175.50            61872.51      1,453  "
      ]
     },
     "execution_count": 11,
     "metadata": {},
     "output_type": "execute_result"
    }
   ],
   "source": [
    "# Your code here\n",
    "df.head()"
   ]
  },
  {
   "cell_type": "markdown",
   "metadata": {},
   "source": [
    "<center><u><h3>Column Descriptions</h3><u></center>\n",
    "\n",
    "\n",
    "| Column Name         \t| Description                                                                                                                                                               \t|\n",
    "|:---------------------\t|:---------------------------------------------------------------------------------------------------------------------------------------------------------------------------\t|\n",
    "| Municipality        \t| The community's name                                                                                                                                                      \t|\n",
    "| Establishment Count \t| Number of businesses with video gambling licenses                                                                                                                         \t|\n",
    "| Terminal Count      \t| Number of video gambling machines in the community.                                                                                                                       \t|\n",
    "| Amount Played       \t| Total amount spent on video gambling by players.                                                                                                                          \t|\n",
    "| Amount Won          \t| Total amount won by players                                                                                                                                               \t|\n",
    "| Nti Tax             \t| The Net Terminal Income Tax Rate <br>is 30% of the Net Terminal Income. <br>The funds are divided between<br>the State of Illinois and local <br>governmental organizations. \t|\n",
    "| State Share         \t| Total revenue received by the State Government                                                                                                                            \t|\n",
    "| Municipality Share  \t| Total revenue received by the Municipality                   |\n",
    "| Population            | 2019 Municipal Population                                    |"
   ]
  },
  {
   "cell_type": "markdown",
   "metadata": {},
   "source": [
    "### Task 5"
   ]
  },
  {
   "cell_type": "markdown",
   "metadata": {
    "ExecuteTime": {
     "end_time": "2020-05-17T00:17:37.266328Z",
     "start_time": "2020-05-17T00:17:37.255213Z"
    }
   },
   "source": [
    "In the cell below, set the Municipality column as the index using the ```.set_index()``` method."
   ]
  },
  {
   "cell_type": "code",
   "execution_count": 14,
   "metadata": {
    "ExecuteTime": {
     "end_time": "2020-11-24T23:27:00.323454Z",
     "start_time": "2020-11-24T23:27:00.319762Z"
    }
   },
   "outputs": [],
   "source": [
    "# Your code here\n",
    "df = df.set_index('Municipality')"
   ]
  },
  {
   "cell_type": "code",
   "execution_count": 15,
   "metadata": {
    "ExecuteTime": {
     "end_time": "2020-11-24T23:27:01.158250Z",
     "start_time": "2020-11-24T23:27:01.142981Z"
    }
   },
   "outputs": [
    {
     "data": {
      "text/html": [
       "<div>\n",
       "<style scoped>\n",
       "    .dataframe tbody tr th:only-of-type {\n",
       "        vertical-align: middle;\n",
       "    }\n",
       "\n",
       "    .dataframe tbody tr th {\n",
       "        vertical-align: top;\n",
       "    }\n",
       "\n",
       "    .dataframe thead th {\n",
       "        text-align: right;\n",
       "    }\n",
       "</style>\n",
       "<table border=\"1\" class=\"dataframe\">\n",
       "  <thead>\n",
       "    <tr style=\"text-align: right;\">\n",
       "      <th></th>\n",
       "      <th>Establishment Count</th>\n",
       "      <th>Terminal Count</th>\n",
       "      <th>Amount Played</th>\n",
       "      <th>Amount Won</th>\n",
       "      <th>Nti Tax</th>\n",
       "      <th>State Share</th>\n",
       "      <th>Municipality Share</th>\n",
       "      <th>Population</th>\n",
       "    </tr>\n",
       "    <tr>\n",
       "      <th>Municipality</th>\n",
       "      <th></th>\n",
       "      <th></th>\n",
       "      <th></th>\n",
       "      <th></th>\n",
       "      <th></th>\n",
       "      <th></th>\n",
       "      <th></th>\n",
       "      <th></th>\n",
       "    </tr>\n",
       "  </thead>\n",
       "  <tbody>\n",
       "    <tr>\n",
       "      <th>Oregon</th>\n",
       "      <td>13</td>\n",
       "      <td>58</td>\n",
       "      <td>30182428.57</td>\n",
       "      <td>27583763.32</td>\n",
       "      <td>818444.23</td>\n",
       "      <td>688505.69</td>\n",
       "      <td>129938.54</td>\n",
       "      <td>3,683</td>\n",
       "    </tr>\n",
       "    <tr>\n",
       "      <th>Oakwood Hills</th>\n",
       "      <td>1</td>\n",
       "      <td>4</td>\n",
       "      <td>216669.74</td>\n",
       "      <td>199790.23</td>\n",
       "      <td>5281.38</td>\n",
       "      <td>4433.69</td>\n",
       "      <td>847.69</td>\n",
       "      <td>2,245</td>\n",
       "    </tr>\n",
       "    <tr>\n",
       "      <th>Merrionette Park</th>\n",
       "      <td>4</td>\n",
       "      <td>17</td>\n",
       "      <td>26567816.26</td>\n",
       "      <td>24324921.75</td>\n",
       "      <td>706616.85</td>\n",
       "      <td>594470.85</td>\n",
       "      <td>112146.00</td>\n",
       "      <td>2,163</td>\n",
       "    </tr>\n",
       "    <tr>\n",
       "      <th>Ashkum</th>\n",
       "      <td>2</td>\n",
       "      <td>8</td>\n",
       "      <td>2289711.66</td>\n",
       "      <td>2113123.06</td>\n",
       "      <td>55674.55</td>\n",
       "      <td>46845.11</td>\n",
       "      <td>8829.44</td>\n",
       "      <td>800</td>\n",
       "    </tr>\n",
       "    <tr>\n",
       "      <th>Grandview</th>\n",
       "      <td>5</td>\n",
       "      <td>25</td>\n",
       "      <td>13713301.51</td>\n",
       "      <td>12475853.83</td>\n",
       "      <td>390048.01</td>\n",
       "      <td>328175.50</td>\n",
       "      <td>61872.51</td>\n",
       "      <td>1,453</td>\n",
       "    </tr>\n",
       "    <tr>\n",
       "      <th>...</th>\n",
       "      <td>...</td>\n",
       "      <td>...</td>\n",
       "      <td>...</td>\n",
       "      <td>...</td>\n",
       "      <td>...</td>\n",
       "      <td>...</td>\n",
       "      <td>...</td>\n",
       "      <td>...</td>\n",
       "    </tr>\n",
       "    <tr>\n",
       "      <th>East Peoria</th>\n",
       "      <td>26</td>\n",
       "      <td>111</td>\n",
       "      <td>52001103.85</td>\n",
       "      <td>47625215.85</td>\n",
       "      <td>1377742.74</td>\n",
       "      <td>1158937.72</td>\n",
       "      <td>218805.02</td>\n",
       "      <td>22,876</td>\n",
       "    </tr>\n",
       "    <tr>\n",
       "      <th>Hillcrest</th>\n",
       "      <td>1</td>\n",
       "      <td>5</td>\n",
       "      <td>8276176.37</td>\n",
       "      <td>7653443.96</td>\n",
       "      <td>195544.11</td>\n",
       "      <td>164402.41</td>\n",
       "      <td>31141.70</td>\n",
       "      <td>1,265</td>\n",
       "    </tr>\n",
       "    <tr>\n",
       "      <th>Cuba</th>\n",
       "      <td>3</td>\n",
       "      <td>14</td>\n",
       "      <td>3864705.96</td>\n",
       "      <td>3571459.67</td>\n",
       "      <td>91808.82</td>\n",
       "      <td>77145.44</td>\n",
       "      <td>14663.38</td>\n",
       "      <td>1,285</td>\n",
       "    </tr>\n",
       "    <tr>\n",
       "      <th>Germantown</th>\n",
       "      <td>5</td>\n",
       "      <td>25</td>\n",
       "      <td>8102693.72</td>\n",
       "      <td>7477390.69</td>\n",
       "      <td>197199.12</td>\n",
       "      <td>165933.70</td>\n",
       "      <td>31265.42</td>\n",
       "      <td>1,180</td>\n",
       "    </tr>\n",
       "    <tr>\n",
       "      <th>Minier</th>\n",
       "      <td>3</td>\n",
       "      <td>13</td>\n",
       "      <td>3562932.38</td>\n",
       "      <td>3269056.04</td>\n",
       "      <td>92357.41</td>\n",
       "      <td>77663.41</td>\n",
       "      <td>14694.00</td>\n",
       "      <td>1,200</td>\n",
       "    </tr>\n",
       "  </tbody>\n",
       "</table>\n",
       "<p>835 rows × 8 columns</p>\n",
       "</div>"
      ],
      "text/plain": [
       "                  Establishment Count  Terminal Count  Amount Played  \\\n",
       "Municipality                                                           \n",
       "Oregon                             13              58    30182428.57   \n",
       "Oakwood Hills                       1               4      216669.74   \n",
       "Merrionette Park                    4              17    26567816.26   \n",
       "Ashkum                              2               8     2289711.66   \n",
       "Grandview                           5              25    13713301.51   \n",
       "...                               ...             ...            ...   \n",
       "East Peoria                        26             111    52001103.85   \n",
       "Hillcrest                           1               5     8276176.37   \n",
       "Cuba                                3              14     3864705.96   \n",
       "Germantown                          5              25     8102693.72   \n",
       "Minier                              3              13     3562932.38   \n",
       "\n",
       "                   Amount Won     Nti Tax  State Share  Municipality Share  \\\n",
       "Municipality                                                                 \n",
       "Oregon            27583763.32   818444.23    688505.69           129938.54   \n",
       "Oakwood Hills       199790.23     5281.38      4433.69              847.69   \n",
       "Merrionette Park  24324921.75   706616.85    594470.85           112146.00   \n",
       "Ashkum             2113123.06    55674.55     46845.11             8829.44   \n",
       "Grandview         12475853.83   390048.01    328175.50            61872.51   \n",
       "...                       ...         ...          ...                 ...   \n",
       "East Peoria       47625215.85  1377742.74   1158937.72           218805.02   \n",
       "Hillcrest          7653443.96   195544.11    164402.41            31141.70   \n",
       "Cuba               3571459.67    91808.82     77145.44            14663.38   \n",
       "Germantown         7477390.69   197199.12    165933.70            31265.42   \n",
       "Minier             3269056.04    92357.41     77663.41            14694.00   \n",
       "\n",
       "                 Population  \n",
       "Municipality                 \n",
       "Oregon                3,683  \n",
       "Oakwood Hills         2,245  \n",
       "Merrionette Park      2,163  \n",
       "Ashkum                  800  \n",
       "Grandview             1,453  \n",
       "...                     ...  \n",
       "East Peoria          22,876  \n",
       "Hillcrest             1,265  \n",
       "Cuba                  1,285  \n",
       "Germantown            1,180  \n",
       "Minier                1,200  \n",
       "\n",
       "[835 rows x 8 columns]"
      ]
     },
     "execution_count": 15,
     "metadata": {},
     "output_type": "execute_result"
    }
   ],
   "source": [
    "df"
   ]
  },
  {
   "cell_type": "markdown",
   "metadata": {},
   "source": [
    "## loc vs iloc"
   ]
  },
  {
   "cell_type": "code",
   "execution_count": 24,
   "metadata": {
    "ExecuteTime": {
     "end_time": "2020-11-24T23:30:17.475914Z",
     "start_time": "2020-11-24T23:30:17.470610Z"
    }
   },
   "outputs": [
    {
     "data": {
      "text/plain": [
       "Establishment Count              2\n",
       "Terminal Count                   8\n",
       "Amount Played          2.17386e+06\n",
       "Name: Catlin, dtype: object"
      ]
     },
     "execution_count": 24,
     "metadata": {},
     "output_type": "execute_result"
    }
   ],
   "source": [
    "df.iloc[5, 0: 3]"
   ]
  },
  {
   "cell_type": "markdown",
   "metadata": {},
   "source": [
    "### Task 6"
   ]
  },
  {
   "cell_type": "markdown",
   "metadata": {
    "ExecuteTime": {
     "end_time": "2020-05-17T00:19:20.848464Z",
     "start_time": "2020-05-17T00:19:20.811798Z"
    }
   },
   "source": [
    "Let's sort our index alphabetically using [this](https://pandas.pydata.org/pandas-docs/stable/reference/api/pandas.DataFrame.sort_index.html) method."
   ]
  },
  {
   "cell_type": "code",
   "execution_count": 27,
   "metadata": {
    "ExecuteTime": {
     "end_time": "2020-11-24T23:32:26.167268Z",
     "start_time": "2020-11-24T23:32:26.151529Z"
    }
   },
   "outputs": [
    {
     "data": {
      "text/html": [
       "<div>\n",
       "<style scoped>\n",
       "    .dataframe tbody tr th:only-of-type {\n",
       "        vertical-align: middle;\n",
       "    }\n",
       "\n",
       "    .dataframe tbody tr th {\n",
       "        vertical-align: top;\n",
       "    }\n",
       "\n",
       "    .dataframe thead th {\n",
       "        text-align: right;\n",
       "    }\n",
       "</style>\n",
       "<table border=\"1\" class=\"dataframe\">\n",
       "  <thead>\n",
       "    <tr style=\"text-align: right;\">\n",
       "      <th></th>\n",
       "      <th>Establishment Count</th>\n",
       "      <th>Terminal Count</th>\n",
       "      <th>Amount Played</th>\n",
       "      <th>Amount Won</th>\n",
       "      <th>Nti Tax</th>\n",
       "      <th>State Share</th>\n",
       "      <th>Municipality Share</th>\n",
       "      <th>Population</th>\n",
       "    </tr>\n",
       "    <tr>\n",
       "      <th>Municipality</th>\n",
       "      <th></th>\n",
       "      <th></th>\n",
       "      <th></th>\n",
       "      <th></th>\n",
       "      <th></th>\n",
       "      <th></th>\n",
       "      <th></th>\n",
       "      <th></th>\n",
       "    </tr>\n",
       "  </thead>\n",
       "  <tbody>\n",
       "    <tr>\n",
       "      <th>Abingdon</th>\n",
       "      <td>4</td>\n",
       "      <td>16</td>\n",
       "      <td>6492446.76</td>\n",
       "      <td>5968296.97</td>\n",
       "      <td>165040.02</td>\n",
       "      <td>138832.38</td>\n",
       "      <td>26207.64</td>\n",
       "      <td>3,452</td>\n",
       "    </tr>\n",
       "    <tr>\n",
       "      <th>Addieville</th>\n",
       "      <td>1</td>\n",
       "      <td>5</td>\n",
       "      <td>939917.34</td>\n",
       "      <td>860520.60</td>\n",
       "      <td>25020.09</td>\n",
       "      <td>21050.20</td>\n",
       "      <td>3969.89</td>\n",
       "      <td>344</td>\n",
       "    </tr>\n",
       "    <tr>\n",
       "      <th>Addison</th>\n",
       "      <td>23</td>\n",
       "      <td>111</td>\n",
       "      <td>88623932.26</td>\n",
       "      <td>80762581.15</td>\n",
       "      <td>2476573.63</td>\n",
       "      <td>2083474.53</td>\n",
       "      <td>393099.10</td>\n",
       "      <td>37,089</td>\n",
       "    </tr>\n",
       "    <tr>\n",
       "      <th>Albany</th>\n",
       "      <td>2</td>\n",
       "      <td>7</td>\n",
       "      <td>2030709.60</td>\n",
       "      <td>1855397.39</td>\n",
       "      <td>55473.53</td>\n",
       "      <td>46707.84</td>\n",
       "      <td>8765.69</td>\n",
       "      <td>979</td>\n",
       "    </tr>\n",
       "    <tr>\n",
       "      <th>Albers</th>\n",
       "      <td>1</td>\n",
       "      <td>4</td>\n",
       "      <td>1546280.29</td>\n",
       "      <td>1419896.70</td>\n",
       "      <td>39710.50</td>\n",
       "      <td>33391.29</td>\n",
       "      <td>6319.21</td>\n",
       "      <td>1,184</td>\n",
       "    </tr>\n",
       "    <tr>\n",
       "      <th>...</th>\n",
       "      <td>...</td>\n",
       "      <td>...</td>\n",
       "      <td>...</td>\n",
       "      <td>...</td>\n",
       "      <td>...</td>\n",
       "      <td>...</td>\n",
       "      <td>...</td>\n",
       "      <td>...</td>\n",
       "    </tr>\n",
       "    <tr>\n",
       "      <th>Wyoming</th>\n",
       "      <td>4</td>\n",
       "      <td>14</td>\n",
       "      <td>5175796.61</td>\n",
       "      <td>4750570.47</td>\n",
       "      <td>134733.65</td>\n",
       "      <td>113472.25</td>\n",
       "      <td>21261.40</td>\n",
       "      <td>1,365</td>\n",
       "    </tr>\n",
       "    <tr>\n",
       "      <th>Yates City</th>\n",
       "      <td>2</td>\n",
       "      <td>9</td>\n",
       "      <td>2312753.96</td>\n",
       "      <td>2112213.03</td>\n",
       "      <td>62885.85</td>\n",
       "      <td>52858.72</td>\n",
       "      <td>10027.13</td>\n",
       "      <td>739</td>\n",
       "    </tr>\n",
       "    <tr>\n",
       "      <th>Yorkville</th>\n",
       "      <td>17</td>\n",
       "      <td>82</td>\n",
       "      <td>34644816.40</td>\n",
       "      <td>31807129.97</td>\n",
       "      <td>891425.19</td>\n",
       "      <td>749532.91</td>\n",
       "      <td>141892.28</td>\n",
       "      <td>19,145</td>\n",
       "    </tr>\n",
       "    <tr>\n",
       "      <th>Zeigler</th>\n",
       "      <td>2</td>\n",
       "      <td>10</td>\n",
       "      <td>6313807.67</td>\n",
       "      <td>5800470.01</td>\n",
       "      <td>161690.11</td>\n",
       "      <td>136023.12</td>\n",
       "      <td>25666.99</td>\n",
       "      <td>1,836</td>\n",
       "    </tr>\n",
       "    <tr>\n",
       "      <th>Zion</th>\n",
       "      <td>8</td>\n",
       "      <td>40</td>\n",
       "      <td>55554420.63</td>\n",
       "      <td>50732129.76</td>\n",
       "      <td>1519326.98</td>\n",
       "      <td>1278211.05</td>\n",
       "      <td>241115.93</td>\n",
       "      <td>24,047</td>\n",
       "    </tr>\n",
       "  </tbody>\n",
       "</table>\n",
       "<p>835 rows × 8 columns</p>\n",
       "</div>"
      ],
      "text/plain": [
       "              Establishment Count  Terminal Count  Amount Played   Amount Won  \\\n",
       "Municipality                                                                    \n",
       "Abingdon                        4              16     6492446.76   5968296.97   \n",
       "Addieville                      1               5      939917.34    860520.60   \n",
       "Addison                        23             111    88623932.26  80762581.15   \n",
       "Albany                          2               7     2030709.60   1855397.39   \n",
       "Albers                          1               4     1546280.29   1419896.70   \n",
       "...                           ...             ...            ...          ...   \n",
       "Wyoming                         4              14     5175796.61   4750570.47   \n",
       "Yates City                      2               9     2312753.96   2112213.03   \n",
       "Yorkville                      17              82    34644816.40  31807129.97   \n",
       "Zeigler                         2              10     6313807.67   5800470.01   \n",
       "Zion                            8              40    55554420.63  50732129.76   \n",
       "\n",
       "                 Nti Tax  State Share  Municipality Share Population  \n",
       "Municipality                                                          \n",
       "Abingdon       165040.02    138832.38            26207.64      3,452  \n",
       "Addieville      25020.09     21050.20             3969.89        344  \n",
       "Addison       2476573.63   2083474.53           393099.10     37,089  \n",
       "Albany          55473.53     46707.84             8765.69        979  \n",
       "Albers          39710.50     33391.29             6319.21      1,184  \n",
       "...                  ...          ...                 ...        ...  \n",
       "Wyoming        134733.65    113472.25            21261.40      1,365  \n",
       "Yates City      62885.85     52858.72            10027.13        739  \n",
       "Yorkville      891425.19    749532.91           141892.28     19,145  \n",
       "Zeigler        161690.11    136023.12            25666.99      1,836  \n",
       "Zion          1519326.98   1278211.05           241115.93     24,047  \n",
       "\n",
       "[835 rows x 8 columns]"
      ]
     },
     "execution_count": 27,
     "metadata": {},
     "output_type": "execute_result"
    }
   ],
   "source": [
    "# Your code here\n",
    "df.sort_index(inplace=True)"
   ]
  },
  {
   "cell_type": "code",
   "execution_count": 28,
   "metadata": {
    "ExecuteTime": {
     "end_time": "2020-11-24T23:32:33.668614Z",
     "start_time": "2020-11-24T23:32:33.652966Z"
    }
   },
   "outputs": [
    {
     "data": {
      "text/html": [
       "<div>\n",
       "<style scoped>\n",
       "    .dataframe tbody tr th:only-of-type {\n",
       "        vertical-align: middle;\n",
       "    }\n",
       "\n",
       "    .dataframe tbody tr th {\n",
       "        vertical-align: top;\n",
       "    }\n",
       "\n",
       "    .dataframe thead th {\n",
       "        text-align: right;\n",
       "    }\n",
       "</style>\n",
       "<table border=\"1\" class=\"dataframe\">\n",
       "  <thead>\n",
       "    <tr style=\"text-align: right;\">\n",
       "      <th></th>\n",
       "      <th>Establishment Count</th>\n",
       "      <th>Terminal Count</th>\n",
       "      <th>Amount Played</th>\n",
       "      <th>Amount Won</th>\n",
       "      <th>Nti Tax</th>\n",
       "      <th>State Share</th>\n",
       "      <th>Municipality Share</th>\n",
       "      <th>Population</th>\n",
       "    </tr>\n",
       "    <tr>\n",
       "      <th>Municipality</th>\n",
       "      <th></th>\n",
       "      <th></th>\n",
       "      <th></th>\n",
       "      <th></th>\n",
       "      <th></th>\n",
       "      <th></th>\n",
       "      <th></th>\n",
       "      <th></th>\n",
       "    </tr>\n",
       "  </thead>\n",
       "  <tbody>\n",
       "    <tr>\n",
       "      <th>Abingdon</th>\n",
       "      <td>4</td>\n",
       "      <td>16</td>\n",
       "      <td>6492446.76</td>\n",
       "      <td>5968296.97</td>\n",
       "      <td>165040.02</td>\n",
       "      <td>138832.38</td>\n",
       "      <td>26207.64</td>\n",
       "      <td>3,452</td>\n",
       "    </tr>\n",
       "    <tr>\n",
       "      <th>Addieville</th>\n",
       "      <td>1</td>\n",
       "      <td>5</td>\n",
       "      <td>939917.34</td>\n",
       "      <td>860520.60</td>\n",
       "      <td>25020.09</td>\n",
       "      <td>21050.20</td>\n",
       "      <td>3969.89</td>\n",
       "      <td>344</td>\n",
       "    </tr>\n",
       "    <tr>\n",
       "      <th>Addison</th>\n",
       "      <td>23</td>\n",
       "      <td>111</td>\n",
       "      <td>88623932.26</td>\n",
       "      <td>80762581.15</td>\n",
       "      <td>2476573.63</td>\n",
       "      <td>2083474.53</td>\n",
       "      <td>393099.10</td>\n",
       "      <td>37,089</td>\n",
       "    </tr>\n",
       "    <tr>\n",
       "      <th>Albany</th>\n",
       "      <td>2</td>\n",
       "      <td>7</td>\n",
       "      <td>2030709.60</td>\n",
       "      <td>1855397.39</td>\n",
       "      <td>55473.53</td>\n",
       "      <td>46707.84</td>\n",
       "      <td>8765.69</td>\n",
       "      <td>979</td>\n",
       "    </tr>\n",
       "    <tr>\n",
       "      <th>Albers</th>\n",
       "      <td>1</td>\n",
       "      <td>4</td>\n",
       "      <td>1546280.29</td>\n",
       "      <td>1419896.70</td>\n",
       "      <td>39710.50</td>\n",
       "      <td>33391.29</td>\n",
       "      <td>6319.21</td>\n",
       "      <td>1,184</td>\n",
       "    </tr>\n",
       "    <tr>\n",
       "      <th>...</th>\n",
       "      <td>...</td>\n",
       "      <td>...</td>\n",
       "      <td>...</td>\n",
       "      <td>...</td>\n",
       "      <td>...</td>\n",
       "      <td>...</td>\n",
       "      <td>...</td>\n",
       "      <td>...</td>\n",
       "    </tr>\n",
       "    <tr>\n",
       "      <th>Wyoming</th>\n",
       "      <td>4</td>\n",
       "      <td>14</td>\n",
       "      <td>5175796.61</td>\n",
       "      <td>4750570.47</td>\n",
       "      <td>134733.65</td>\n",
       "      <td>113472.25</td>\n",
       "      <td>21261.40</td>\n",
       "      <td>1,365</td>\n",
       "    </tr>\n",
       "    <tr>\n",
       "      <th>Yates City</th>\n",
       "      <td>2</td>\n",
       "      <td>9</td>\n",
       "      <td>2312753.96</td>\n",
       "      <td>2112213.03</td>\n",
       "      <td>62885.85</td>\n",
       "      <td>52858.72</td>\n",
       "      <td>10027.13</td>\n",
       "      <td>739</td>\n",
       "    </tr>\n",
       "    <tr>\n",
       "      <th>Yorkville</th>\n",
       "      <td>17</td>\n",
       "      <td>82</td>\n",
       "      <td>34644816.40</td>\n",
       "      <td>31807129.97</td>\n",
       "      <td>891425.19</td>\n",
       "      <td>749532.91</td>\n",
       "      <td>141892.28</td>\n",
       "      <td>19,145</td>\n",
       "    </tr>\n",
       "    <tr>\n",
       "      <th>Zeigler</th>\n",
       "      <td>2</td>\n",
       "      <td>10</td>\n",
       "      <td>6313807.67</td>\n",
       "      <td>5800470.01</td>\n",
       "      <td>161690.11</td>\n",
       "      <td>136023.12</td>\n",
       "      <td>25666.99</td>\n",
       "      <td>1,836</td>\n",
       "    </tr>\n",
       "    <tr>\n",
       "      <th>Zion</th>\n",
       "      <td>8</td>\n",
       "      <td>40</td>\n",
       "      <td>55554420.63</td>\n",
       "      <td>50732129.76</td>\n",
       "      <td>1519326.98</td>\n",
       "      <td>1278211.05</td>\n",
       "      <td>241115.93</td>\n",
       "      <td>24,047</td>\n",
       "    </tr>\n",
       "  </tbody>\n",
       "</table>\n",
       "<p>835 rows × 8 columns</p>\n",
       "</div>"
      ],
      "text/plain": [
       "              Establishment Count  Terminal Count  Amount Played   Amount Won  \\\n",
       "Municipality                                                                    \n",
       "Abingdon                        4              16     6492446.76   5968296.97   \n",
       "Addieville                      1               5      939917.34    860520.60   \n",
       "Addison                        23             111    88623932.26  80762581.15   \n",
       "Albany                          2               7     2030709.60   1855397.39   \n",
       "Albers                          1               4     1546280.29   1419896.70   \n",
       "...                           ...             ...            ...          ...   \n",
       "Wyoming                         4              14     5175796.61   4750570.47   \n",
       "Yates City                      2               9     2312753.96   2112213.03   \n",
       "Yorkville                      17              82    34644816.40  31807129.97   \n",
       "Zeigler                         2              10     6313807.67   5800470.01   \n",
       "Zion                            8              40    55554420.63  50732129.76   \n",
       "\n",
       "                 Nti Tax  State Share  Municipality Share Population  \n",
       "Municipality                                                          \n",
       "Abingdon       165040.02    138832.38            26207.64      3,452  \n",
       "Addieville      25020.09     21050.20             3969.89        344  \n",
       "Addison       2476573.63   2083474.53           393099.10     37,089  \n",
       "Albany          55473.53     46707.84             8765.69        979  \n",
       "Albers          39710.50     33391.29             6319.21      1,184  \n",
       "...                  ...          ...                 ...        ...  \n",
       "Wyoming        134733.65    113472.25            21261.40      1,365  \n",
       "Yates City      62885.85     52858.72            10027.13        739  \n",
       "Yorkville      891425.19    749532.91           141892.28     19,145  \n",
       "Zeigler        161690.11    136023.12            25666.99      1,836  \n",
       "Zion          1519326.98   1278211.05           241115.93     24,047  \n",
       "\n",
       "[835 rows x 8 columns]"
      ]
     },
     "execution_count": 28,
     "metadata": {},
     "output_type": "execute_result"
    }
   ],
   "source": [
    "df"
   ]
  },
  {
   "cell_type": "markdown",
   "metadata": {},
   "source": [
    "### Task 7"
   ]
  },
  {
   "cell_type": "markdown",
   "metadata": {
    "ExecuteTime": {
     "end_time": "2020-05-17T00:21:15.301914Z",
     "start_time": "2020-05-17T00:21:15.268592Z"
    }
   },
   "source": [
    "To make things easier on ourselves let's reformat our column names.\n",
    "\n",
    "<u>In the cell below:</u>\n",
    "1. Replace spaces with underscores for each column name\n",
    "2. Lower each column name\n",
    ">Bonus points if you do this via list comphrension 😃"
   ]
  },
  {
   "cell_type": "code",
   "execution_count": 34,
   "metadata": {
    "ExecuteTime": {
     "end_time": "2020-11-24T23:33:52.962887Z",
     "start_time": "2020-11-24T23:33:52.959163Z"
    }
   },
   "outputs": [],
   "source": [
    "# Your code here\n",
    "df.columns = [column.strip().lower().replace(' ', '_') for column in df.columns]"
   ]
  },
  {
   "cell_type": "code",
   "execution_count": 37,
   "metadata": {
    "ExecuteTime": {
     "end_time": "2020-11-24T23:34:33.847891Z",
     "start_time": "2020-11-24T23:34:33.834781Z"
    }
   },
   "outputs": [
    {
     "data": {
      "text/html": [
       "<div>\n",
       "<style scoped>\n",
       "    .dataframe tbody tr th:only-of-type {\n",
       "        vertical-align: middle;\n",
       "    }\n",
       "\n",
       "    .dataframe tbody tr th {\n",
       "        vertical-align: top;\n",
       "    }\n",
       "\n",
       "    .dataframe thead th {\n",
       "        text-align: right;\n",
       "    }\n",
       "</style>\n",
       "<table border=\"1\" class=\"dataframe\">\n",
       "  <thead>\n",
       "    <tr style=\"text-align: right;\">\n",
       "      <th></th>\n",
       "      <th>establishment_count</th>\n",
       "      <th>terminal_count</th>\n",
       "      <th>amount_played</th>\n",
       "      <th>amount_won</th>\n",
       "      <th>nti_tax</th>\n",
       "      <th>state_share</th>\n",
       "      <th>municipality_share</th>\n",
       "      <th>population</th>\n",
       "      <th>Example Column</th>\n",
       "    </tr>\n",
       "    <tr>\n",
       "      <th>Municipality</th>\n",
       "      <th></th>\n",
       "      <th></th>\n",
       "      <th></th>\n",
       "      <th></th>\n",
       "      <th></th>\n",
       "      <th></th>\n",
       "      <th></th>\n",
       "      <th></th>\n",
       "      <th></th>\n",
       "    </tr>\n",
       "  </thead>\n",
       "  <tbody>\n",
       "    <tr>\n",
       "      <th>Abingdon</th>\n",
       "      <td>4</td>\n",
       "      <td>16</td>\n",
       "      <td>6492446.76</td>\n",
       "      <td>5968296.97</td>\n",
       "      <td>165040.02</td>\n",
       "      <td>138832.38</td>\n",
       "      <td>26207.64</td>\n",
       "      <td>3,452</td>\n",
       "      <td>1</td>\n",
       "    </tr>\n",
       "    <tr>\n",
       "      <th>Addieville</th>\n",
       "      <td>1</td>\n",
       "      <td>5</td>\n",
       "      <td>939917.34</td>\n",
       "      <td>860520.60</td>\n",
       "      <td>25020.09</td>\n",
       "      <td>21050.20</td>\n",
       "      <td>3969.89</td>\n",
       "      <td>344</td>\n",
       "      <td>1</td>\n",
       "    </tr>\n",
       "    <tr>\n",
       "      <th>Addison</th>\n",
       "      <td>23</td>\n",
       "      <td>111</td>\n",
       "      <td>88623932.26</td>\n",
       "      <td>80762581.15</td>\n",
       "      <td>2476573.63</td>\n",
       "      <td>2083474.53</td>\n",
       "      <td>393099.10</td>\n",
       "      <td>37,089</td>\n",
       "      <td>1</td>\n",
       "    </tr>\n",
       "    <tr>\n",
       "      <th>Albany</th>\n",
       "      <td>2</td>\n",
       "      <td>7</td>\n",
       "      <td>2030709.60</td>\n",
       "      <td>1855397.39</td>\n",
       "      <td>55473.53</td>\n",
       "      <td>46707.84</td>\n",
       "      <td>8765.69</td>\n",
       "      <td>979</td>\n",
       "      <td>1</td>\n",
       "    </tr>\n",
       "    <tr>\n",
       "      <th>Albers</th>\n",
       "      <td>1</td>\n",
       "      <td>4</td>\n",
       "      <td>1546280.29</td>\n",
       "      <td>1419896.70</td>\n",
       "      <td>39710.50</td>\n",
       "      <td>33391.29</td>\n",
       "      <td>6319.21</td>\n",
       "      <td>1,184</td>\n",
       "      <td>1</td>\n",
       "    </tr>\n",
       "  </tbody>\n",
       "</table>\n",
       "</div>"
      ],
      "text/plain": [
       "              establishment_count  terminal_count  amount_played   amount_won  \\\n",
       "Municipality                                                                    \n",
       "Abingdon                        4              16     6492446.76   5968296.97   \n",
       "Addieville                      1               5      939917.34    860520.60   \n",
       "Addison                        23             111    88623932.26  80762581.15   \n",
       "Albany                          2               7     2030709.60   1855397.39   \n",
       "Albers                          1               4     1546280.29   1419896.70   \n",
       "\n",
       "                 nti_tax  state_share  municipality_share population  \\\n",
       "Municipality                                                           \n",
       "Abingdon       165040.02    138832.38            26207.64      3,452   \n",
       "Addieville      25020.09     21050.20             3969.89        344   \n",
       "Addison       2476573.63   2083474.53           393099.10     37,089   \n",
       "Albany          55473.53     46707.84             8765.69        979   \n",
       "Albers          39710.50     33391.29             6319.21      1,184   \n",
       "\n",
       "              Example Column  \n",
       "Municipality                  \n",
       "Abingdon                   1  \n",
       "Addieville                 1  \n",
       "Addison                    1  \n",
       "Albany                     1  \n",
       "Albers                     1  "
      ]
     },
     "execution_count": 37,
     "metadata": {},
     "output_type": "execute_result"
    }
   ],
   "source": [
    "df['Example Column'] = [1 for x in range(len(df))]"
   ]
  },
  {
   "cell_type": "code",
   "execution_count": 40,
   "metadata": {
    "ExecuteTime": {
     "end_time": "2020-11-24T23:35:31.503306Z",
     "start_time": "2020-11-24T23:35:31.497912Z"
    }
   },
   "outputs": [
    {
     "data": {
      "text/plain": [
       "Municipality\n",
       "Abingdon       5968296.97\n",
       "Addieville      860520.60\n",
       "Addison       80762581.15\n",
       "Albany         1855397.39\n",
       "Albers         1419896.70\n",
       "                 ...     \n",
       "Wyoming        4750570.47\n",
       "Yates City     2112213.03\n",
       "Yorkville     31807129.97\n",
       "Zeigler        5800470.01\n",
       "Zion          50732129.76\n",
       "Name: amount_won, Length: 835, dtype: float64"
      ]
     },
     "execution_count": 40,
     "metadata": {},
     "output_type": "execute_result"
    }
   ],
   "source": [
    "df.amount_won"
   ]
  },
  {
   "cell_type": "markdown",
   "metadata": {
    "ExecuteTime": {
     "end_time": "2020-05-17T00:31:27.767106Z",
     "start_time": "2020-05-17T00:31:27.740575Z"
    }
   },
   "source": [
    "<center><i><h1>So much cleaning</h1></i></center>\n",
    "\n",
    "\n",
    "![](https://media.giphy.com/media/3o7WIE14z2d66BJWJa/giphy.gif)\n",
    "\n",
    "--------\n",
    "\n",
    "Ok Ok, we're almost done formatting our data.\n",
    "\n",
    "<u>In the cell below:</u> \n",
    "1. Print out the datatypes for each of our columns using the ```.info()``` method.\n"
   ]
  },
  {
   "cell_type": "code",
   "execution_count": 41,
   "metadata": {
    "ExecuteTime": {
     "end_time": "2020-11-24T23:35:43.939501Z",
     "start_time": "2020-11-24T23:35:43.931028Z"
    }
   },
   "outputs": [
    {
     "name": "stdout",
     "output_type": "stream",
     "text": [
      "<class 'pandas.core.frame.DataFrame'>\n",
      "Index: 835 entries, Abingdon to Zion\n",
      "Data columns (total 9 columns):\n",
      " #   Column               Non-Null Count  Dtype  \n",
      "---  ------               --------------  -----  \n",
      " 0   establishment_count  835 non-null    int64  \n",
      " 1   terminal_count       835 non-null    int64  \n",
      " 2   amount_played        835 non-null    float64\n",
      " 3   amount_won           835 non-null    float64\n",
      " 4   nti_tax              835 non-null    float64\n",
      " 5   state_share          835 non-null    float64\n",
      " 6   municipality_share   835 non-null    float64\n",
      " 7   population           835 non-null    object \n",
      " 8   Example Column       835 non-null    int64  \n",
      "dtypes: float64(5), int64(3), object(1)\n",
      "memory usage: 105.2+ KB\n"
     ]
    }
   ],
   "source": [
    "# Your code here\n",
    "df.info()"
   ]
  },
  {
   "cell_type": "code",
   "execution_count": 43,
   "metadata": {
    "ExecuteTime": {
     "end_time": "2020-11-24T23:37:27.333019Z",
     "start_time": "2020-11-24T23:37:27.326006Z"
    }
   },
   "outputs": [
    {
     "ename": "ValueError",
     "evalue": "invalid literal for int() with base 10: '3,452'",
     "output_type": "error",
     "traceback": [
      "\u001b[0;31m---------------------------------------------------------------------------\u001b[0m",
      "\u001b[0;31mValueError\u001b[0m                                Traceback (most recent call last)",
      "\u001b[0;32m<ipython-input-43-ca4b7b06ffe8>\u001b[0m in \u001b[0;36m<module>\u001b[0;34m\u001b[0m\n\u001b[0;32m----> 1\u001b[0;31m \u001b[0mint\u001b[0m\u001b[0;34m(\u001b[0m\u001b[0mdf\u001b[0m\u001b[0;34m.\u001b[0m\u001b[0mpopulation\u001b[0m\u001b[0;34m[\u001b[0m\u001b[0;36m0\u001b[0m\u001b[0;34m]\u001b[0m\u001b[0;34m)\u001b[0m\u001b[0;34m\u001b[0m\u001b[0;34m\u001b[0m\u001b[0m\n\u001b[0m",
      "\u001b[0;31mValueError\u001b[0m: invalid literal for int() with base 10: '3,452'"
     ]
    }
   ],
   "source": [
    "int(df.population[0])"
   ]
  },
  {
   "cell_type": "markdown",
   "metadata": {},
   "source": [
    "### Task 8"
   ]
  },
  {
   "cell_type": "markdown",
   "metadata": {},
   "source": [
    "Our ```population``` column contains commas which is causing the computer to interpret the column as a string.\n",
    "\n",
    "<u>In the cell below:</u>\n",
    "1. Remove the commas from the `population` column using the ```.apply``` method\n",
    ">**If you're confused:** Find the answer relating to ```.apply()``` in this [Stack Overflow](https://stackoverflow.com/questions/56947333/how-to-remove-commas-from-all-the-column-in-pandas-at-once/56947424#56947424?newreg=3c19aff3bd5146a19f7787afedc243a2) thread.\n",
    "2. Convert the column datatype to integer\n",
    "\n",
    "    - Bonus points if you can do steps 1 & 2 with 1️⃣ line of code! 😻"
   ]
  },
  {
   "cell_type": "code",
   "execution_count": 47,
   "metadata": {
    "ExecuteTime": {
     "end_time": "2020-11-24T23:40:01.875389Z",
     "start_time": "2020-11-24T23:40:01.871170Z"
    }
   },
   "outputs": [],
   "source": [
    "# Your code here\n",
    "no_comma_function = lambda x: int(x.replace(',', ''))\n",
    "df.population = df.population.apply(no_comma_function)"
   ]
  },
  {
   "cell_type": "code",
   "execution_count": 48,
   "metadata": {
    "ExecuteTime": {
     "end_time": "2020-11-24T23:40:09.019969Z",
     "start_time": "2020-11-24T23:40:09.011530Z"
    }
   },
   "outputs": [
    {
     "name": "stdout",
     "output_type": "stream",
     "text": [
      "<class 'pandas.core.frame.DataFrame'>\n",
      "Index: 835 entries, Abingdon to Zion\n",
      "Data columns (total 9 columns):\n",
      " #   Column               Non-Null Count  Dtype  \n",
      "---  ------               --------------  -----  \n",
      " 0   establishment_count  835 non-null    int64  \n",
      " 1   terminal_count       835 non-null    int64  \n",
      " 2   amount_played        835 non-null    float64\n",
      " 3   amount_won           835 non-null    float64\n",
      " 4   nti_tax              835 non-null    float64\n",
      " 5   state_share          835 non-null    float64\n",
      " 6   municipality_share   835 non-null    float64\n",
      " 7   population           835 non-null    int64  \n",
      " 8   Example Column       835 non-null    int64  \n",
      "dtypes: float64(5), int64(4)\n",
      "memory usage: 105.2+ KB\n"
     ]
    }
   ],
   "source": [
    "df.info()"
   ]
  },
  {
   "cell_type": "markdown",
   "metadata": {
    "ExecuteTime": {
     "end_time": "2020-05-17T00:51:29.636765Z",
     "start_time": "2020-05-17T00:51:29.423590Z"
    }
   },
   "source": [
    "# Cleaning Complete!\n",
    "\n",
    "<img src=\"https://media.giphy.com/media/hEZIaecxpR78I/giphy.gif\" width=400/>"
   ]
  },
  {
   "cell_type": "markdown",
   "metadata": {},
   "source": [
    "### Task 9\n",
    "\n",
    "**When examining data at the municipal level,** it is common to <i><u>scale</u></i> our data according to the municipality's population. \n",
    ">This is known as *per capita* scaling.\n",
    "\n",
    "Let's create a column that shows the number of gambling terminals per capita!\n",
    "\n",
    "<u>In the cell below:</u>\n",
    "1. Create a new column called ```terminals_percapita``` by dividing ```terminal_count``` by ```population```"
   ]
  },
  {
   "cell_type": "code",
   "execution_count": 52,
   "metadata": {
    "ExecuteTime": {
     "end_time": "2020-11-24T23:42:47.809021Z",
     "start_time": "2020-11-24T23:42:47.805180Z"
    }
   },
   "outputs": [],
   "source": [
    "# Your code here\n",
    "list_1 = [1,2,3]\n",
    "list_2 = [4,5,6]\n",
    "\n",
    "df['terminals_percapita'] = df.terminal_count/df.population"
   ]
  },
  {
   "cell_type": "code",
   "execution_count": 53,
   "metadata": {
    "ExecuteTime": {
     "end_time": "2020-11-24T23:42:57.162144Z",
     "start_time": "2020-11-24T23:42:57.149834Z"
    }
   },
   "outputs": [
    {
     "data": {
      "text/html": [
       "<div>\n",
       "<style scoped>\n",
       "    .dataframe tbody tr th:only-of-type {\n",
       "        vertical-align: middle;\n",
       "    }\n",
       "\n",
       "    .dataframe tbody tr th {\n",
       "        vertical-align: top;\n",
       "    }\n",
       "\n",
       "    .dataframe thead th {\n",
       "        text-align: right;\n",
       "    }\n",
       "</style>\n",
       "<table border=\"1\" class=\"dataframe\">\n",
       "  <thead>\n",
       "    <tr style=\"text-align: right;\">\n",
       "      <th></th>\n",
       "      <th>establishment_count</th>\n",
       "      <th>terminal_count</th>\n",
       "      <th>amount_played</th>\n",
       "      <th>amount_won</th>\n",
       "      <th>nti_tax</th>\n",
       "      <th>state_share</th>\n",
       "      <th>municipality_share</th>\n",
       "      <th>population</th>\n",
       "      <th>Example Column</th>\n",
       "      <th>terminals_percapita</th>\n",
       "    </tr>\n",
       "    <tr>\n",
       "      <th>Municipality</th>\n",
       "      <th></th>\n",
       "      <th></th>\n",
       "      <th></th>\n",
       "      <th></th>\n",
       "      <th></th>\n",
       "      <th></th>\n",
       "      <th></th>\n",
       "      <th></th>\n",
       "      <th></th>\n",
       "      <th></th>\n",
       "    </tr>\n",
       "  </thead>\n",
       "  <tbody>\n",
       "    <tr>\n",
       "      <th>Abingdon</th>\n",
       "      <td>4</td>\n",
       "      <td>16</td>\n",
       "      <td>6492446.76</td>\n",
       "      <td>5968296.97</td>\n",
       "      <td>165040.02</td>\n",
       "      <td>138832.38</td>\n",
       "      <td>26207.64</td>\n",
       "      <td>3452</td>\n",
       "      <td>1</td>\n",
       "      <td>0.004635</td>\n",
       "    </tr>\n",
       "    <tr>\n",
       "      <th>Addieville</th>\n",
       "      <td>1</td>\n",
       "      <td>5</td>\n",
       "      <td>939917.34</td>\n",
       "      <td>860520.60</td>\n",
       "      <td>25020.09</td>\n",
       "      <td>21050.20</td>\n",
       "      <td>3969.89</td>\n",
       "      <td>344</td>\n",
       "      <td>1</td>\n",
       "      <td>0.014535</td>\n",
       "    </tr>\n",
       "    <tr>\n",
       "      <th>Addison</th>\n",
       "      <td>23</td>\n",
       "      <td>111</td>\n",
       "      <td>88623932.26</td>\n",
       "      <td>80762581.15</td>\n",
       "      <td>2476573.63</td>\n",
       "      <td>2083474.53</td>\n",
       "      <td>393099.10</td>\n",
       "      <td>37089</td>\n",
       "      <td>1</td>\n",
       "      <td>0.002993</td>\n",
       "    </tr>\n",
       "    <tr>\n",
       "      <th>Albany</th>\n",
       "      <td>2</td>\n",
       "      <td>7</td>\n",
       "      <td>2030709.60</td>\n",
       "      <td>1855397.39</td>\n",
       "      <td>55473.53</td>\n",
       "      <td>46707.84</td>\n",
       "      <td>8765.69</td>\n",
       "      <td>979</td>\n",
       "      <td>1</td>\n",
       "      <td>0.007150</td>\n",
       "    </tr>\n",
       "    <tr>\n",
       "      <th>Albers</th>\n",
       "      <td>1</td>\n",
       "      <td>4</td>\n",
       "      <td>1546280.29</td>\n",
       "      <td>1419896.70</td>\n",
       "      <td>39710.50</td>\n",
       "      <td>33391.29</td>\n",
       "      <td>6319.21</td>\n",
       "      <td>1184</td>\n",
       "      <td>1</td>\n",
       "      <td>0.003378</td>\n",
       "    </tr>\n",
       "  </tbody>\n",
       "</table>\n",
       "</div>"
      ],
      "text/plain": [
       "              establishment_count  terminal_count  amount_played   amount_won  \\\n",
       "Municipality                                                                    \n",
       "Abingdon                        4              16     6492446.76   5968296.97   \n",
       "Addieville                      1               5      939917.34    860520.60   \n",
       "Addison                        23             111    88623932.26  80762581.15   \n",
       "Albany                          2               7     2030709.60   1855397.39   \n",
       "Albers                          1               4     1546280.29   1419896.70   \n",
       "\n",
       "                 nti_tax  state_share  municipality_share  population  \\\n",
       "Municipality                                                            \n",
       "Abingdon       165040.02    138832.38            26207.64        3452   \n",
       "Addieville      25020.09     21050.20             3969.89         344   \n",
       "Addison       2476573.63   2083474.53           393099.10       37089   \n",
       "Albany          55473.53     46707.84             8765.69         979   \n",
       "Albers          39710.50     33391.29             6319.21        1184   \n",
       "\n",
       "              Example Column  terminals_percapita  \n",
       "Municipality                                       \n",
       "Abingdon                   1             0.004635  \n",
       "Addieville                 1             0.014535  \n",
       "Addison                    1             0.002993  \n",
       "Albany                     1             0.007150  \n",
       "Albers                     1             0.003378  "
      ]
     },
     "execution_count": 53,
     "metadata": {},
     "output_type": "execute_result"
    }
   ],
   "source": [
    "df.head()"
   ]
  },
  {
   "cell_type": "markdown",
   "metadata": {},
   "source": [
    "### Task 10"
   ]
  },
  {
   "cell_type": "markdown",
   "metadata": {},
   "source": [
    "Now let's identify which communities have the highest number of gambling devices per capita. \n",
    "\n",
    "\n",
    "<u>In the cell(s) below:</u>\n",
    "1. [Sort](https://pandas.pydata.org/pandas-docs/stable/reference/api/pandas.DataFrame.sort_values.html) the dataframe according to the ```terminals_percapita``` column.\n",
    "2. Identify the 10 communities with the highest number of gambling machines per capita.\n",
    "3. Save those 10 community names in a list called ```highest_machines_percapita```"
   ]
  },
  {
   "cell_type": "code",
   "execution_count": 65,
   "metadata": {
    "ExecuteTime": {
     "end_time": "2020-11-24T23:46:49.580712Z",
     "start_time": "2020-11-24T23:46:49.576869Z"
    }
   },
   "outputs": [],
   "source": [
    "# Your code here\n",
    "highest_machines_percapita = list(df.sort_values('terminals_percapita', ascending=False).iloc[:10].index)"
   ]
  },
  {
   "cell_type": "markdown",
   "metadata": {},
   "source": [
    "Run the cell below to see if you identified the correct Municipalities!"
   ]
  },
  {
   "cell_type": "code",
   "execution_count": 66,
   "metadata": {
    "ExecuteTime": {
     "end_time": "2020-11-24T23:46:50.174392Z",
     "start_time": "2020-11-24T23:46:50.170733Z"
    }
   },
   "outputs": [
    {
     "data": {
      "text/markdown": [
       "✅ **Hey, you did it.  Good job.**"
      ],
      "text/plain": [
       "<IPython.core.display.Markdown object>"
      ]
     },
     "metadata": {},
     "output_type": "display_data"
    }
   ],
   "source": [
    "testing.run_test(highest_machines_percapita, 'highest_machines_percapita')"
   ]
  },
  {
   "cell_type": "markdown",
   "metadata": {},
   "source": [
    "### Task 11"
   ]
  },
  {
   "cell_type": "markdown",
   "metadata": {},
   "source": [
    "**Next,** let's figure out how much money players lost for each municipality.\n",
    "\n",
    "<u>In the cell below:</u>\n",
    "1. Create a new column called ```amount_lost``` that is the difference between the ```amount_played``` and ```amount_won``` columns"
   ]
  },
  {
   "cell_type": "code",
   "execution_count": 67,
   "metadata": {
    "ExecuteTime": {
     "end_time": "2020-11-25T00:19:47.619942Z",
     "start_time": "2020-11-25T00:19:47.616136Z"
    }
   },
   "outputs": [],
   "source": [
    "# Your code here\n",
    "df['amount_lost'] = df.amount_played - df.amount_won"
   ]
  },
  {
   "cell_type": "markdown",
   "metadata": {},
   "source": [
    "### Task 12"
   ]
  },
  {
   "cell_type": "markdown",
   "metadata": {},
   "source": [
    "<u>In the cell below:</u>\n",
    "1. Save the mean of the ```amount_loss``` column as the variable ```average_loss```.\n",
    "2. Using numpy, round the ```average_loss``` variable to 2 decimal points.\n",
    "    - Save the rounded number as the variable ```average_loss_rounded```"
   ]
  },
  {
   "cell_type": "code",
   "execution_count": 71,
   "metadata": {
    "ExecuteTime": {
     "end_time": "2020-11-25T00:21:09.082515Z",
     "start_time": "2020-11-25T00:21:09.079651Z"
    }
   },
   "outputs": [],
   "source": [
    "# Your code here\n",
    "\n",
    "average_loss = df.amount_lost.mean()\n",
    "average_loss_rounded = np.round(average_loss, decimals=2)"
   ]
  },
  {
   "cell_type": "code",
   "execution_count": 73,
   "metadata": {
    "ExecuteTime": {
     "end_time": "2020-11-25T00:21:15.117199Z",
     "start_time": "2020-11-25T00:21:15.113688Z"
    }
   },
   "outputs": [
    {
     "data": {
      "text/plain": [
       "1816880.05"
      ]
     },
     "execution_count": 73,
     "metadata": {},
     "output_type": "execute_result"
    }
   ],
   "source": [
    "average_loss_rounded"
   ]
  },
  {
   "cell_type": "markdown",
   "metadata": {},
   "source": [
    "### Task 13"
   ]
  },
  {
   "cell_type": "markdown",
   "metadata": {},
   "source": [
    "Let's zoom in on this new loss data. \n",
    "\n",
    "<u>In the cell below:</u>\n",
    "1. Create a new column called ```loss_percapita``` that is the division of the ```amount_lost``` and ```population```"
   ]
  },
  {
   "cell_type": "code",
   "execution_count": 74,
   "metadata": {
    "ExecuteTime": {
     "end_time": "2020-11-25T00:22:09.633617Z",
     "start_time": "2020-11-25T00:22:09.630086Z"
    }
   },
   "outputs": [],
   "source": [
    "# Your code here\n",
    "df['loss_percapita'] = df.amount_lost/df.population"
   ]
  },
  {
   "cell_type": "markdown",
   "metadata": {},
   "source": [
    "### Task 14"
   ]
  },
  {
   "cell_type": "markdown",
   "metadata": {},
   "source": [
    "<u>In the cell below</u>\n",
    "1. Sort the dataframe by ```loss_percapita``` and save the 10 communities with the highest loss per capita to a list called ```highest_loss_percapita```"
   ]
  },
  {
   "cell_type": "code",
   "execution_count": 78,
   "metadata": {
    "ExecuteTime": {
     "end_time": "2020-11-25T00:24:06.321808Z",
     "start_time": "2020-11-25T00:24:06.317653Z"
    }
   },
   "outputs": [],
   "source": [
    "# Your code here\n",
    "highest_loss_percapita = list(df.sort_values('loss_percapita', ascending=False).iloc[:10].index)"
   ]
  },
  {
   "cell_type": "code",
   "execution_count": 79,
   "metadata": {
    "ExecuteTime": {
     "end_time": "2020-11-25T00:24:06.692774Z",
     "start_time": "2020-11-25T00:24:06.689224Z"
    }
   },
   "outputs": [
    {
     "data": {
      "text/plain": [
       "['McCook',\n",
       " 'Forest View',\n",
       " 'West City',\n",
       " 'Wadsworth',\n",
       " 'Oakbrook Terrace',\n",
       " 'Monroe Center',\n",
       " 'Bulpitt',\n",
       " 'East Dubuque',\n",
       " 'East Gillespie',\n",
       " 'Oakwood']"
      ]
     },
     "execution_count": 79,
     "metadata": {},
     "output_type": "execute_result"
    }
   ],
   "source": [
    "highest_loss_percapita"
   ]
  },
  {
   "cell_type": "markdown",
   "metadata": {
    "ExecuteTime": {
     "end_time": "2020-05-17T01:55:55.877308Z",
     "start_time": "2020-05-17T01:55:55.873469Z"
    }
   },
   "source": [
    "Run the cell below to see if you idenitified the correct municipalities!"
   ]
  },
  {
   "cell_type": "code",
   "execution_count": 80,
   "metadata": {
    "ExecuteTime": {
     "end_time": "2020-11-25T00:24:08.164099Z",
     "start_time": "2020-11-25T00:24:08.160321Z"
    }
   },
   "outputs": [
    {
     "data": {
      "text/markdown": [
       "✅ **Hey, you did it.  Good job.**"
      ],
      "text/plain": [
       "<IPython.core.display.Markdown object>"
      ]
     },
     "metadata": {},
     "output_type": "display_data"
    }
   ],
   "source": [
    "testing.run_test(highest_loss_percapita, 'highest_loss_percapita')"
   ]
  },
  {
   "cell_type": "markdown",
   "metadata": {},
   "source": [
    "### Task 15\n",
    "\n",
    "Let's create a categorical variable that classifies a municipality according to the Census Urban-Rural Classification.\n",
    "\n",
    "\n",
    "> \"The Census Bureau identifies two types of urban areas. Urbanized Areas (UAs) of 50,000 or more people;\n",
    "Urban Clusters (UCs) of at least 2,500 and less than 50,000 people. 'Rural' encompasses all population, housing, and territory not included within an urban area.\" *–– [US Census Bureau](https://www.census.gov/programs-surveys/geography/guidance/geo-areas/urban-rural.html)*\n",
    "\n",
    "Let's create a visualization to check if this technique makes sense with our data.\n",
    "\n",
    "<u>In the cell below:</u>\n",
    "- Create a boxplot to visualize the distribution of the `population` column."
   ]
  },
  {
   "cell_type": "code",
   "execution_count": 83,
   "metadata": {
    "ExecuteTime": {
     "end_time": "2020-11-25T00:26:29.727024Z",
     "start_time": "2020-11-25T00:26:29.550840Z"
    }
   },
   "outputs": [
    {
     "data": {
      "image/png": "[encoded data removed]",
      "text/plain": [
       "<Figure size 432x288 with 1 Axes>"
      ]
     },
     "metadata": {
      "needs_background": "light"
     },
     "output_type": "display_data"
    }
   ],
   "source": [
    "# Your code here\n",
    "plt.boxplot(df.population)\n",
    "plt.title('Illinois Municipalities with Video Gambling -- Population')\n",
    "plt.show()"
   ]
  },
  {
   "cell_type": "code",
   "execution_count": 84,
   "metadata": {
    "ExecuteTime": {
     "end_time": "2020-11-25T00:26:56.021386Z",
     "start_time": "2020-11-25T00:26:56.015988Z"
    }
   },
   "outputs": [
    {
     "data": {
      "text/plain": [
       "2020.0"
      ]
     },
     "execution_count": 84,
     "metadata": {},
     "output_type": "execute_result"
    }
   ],
   "source": [
    "df.population.median()"
   ]
  },
  {
   "cell_type": "markdown",
   "metadata": {},
   "source": [
    "### Task 16"
   ]
  },
  {
   "cell_type": "markdown",
   "metadata": {},
   "source": [
    "This classification technique seems like it will work adequately for these data. \n",
    "\n",
    "<u>In the cell below:</u>\n",
    "\n",
    "Create a new column called `urban_rural` that bins the population column into the following groups:\n",
    "- 'rural'\n",
    "    - Any population that is less than 2,500.\n",
    "- 'urban-cluster'\n",
    "    - Any population that is 2,500-50,000.\n",
    "- 'urban'\n",
    "    - Any population that is greater than 50,000.\n",
    "    \n",
    "> There are multiple ways to create this column. I'll leave it to you to decide how you will complete this task."
   ]
  },
  {
   "cell_type": "code",
   "execution_count": 93,
   "metadata": {
    "ExecuteTime": {
     "end_time": "2020-11-25T00:31:51.446977Z",
     "start_time": "2020-11-25T00:31:51.422342Z"
    }
   },
   "outputs": [],
   "source": [
    "# Your code here\n",
    "bins = []\n",
    "for idx in df.index:\n",
    "    value = df.population[idx]\n",
    "    if value > 50000:\n",
    "        bins.append('urban')\n",
    "    elif value >= 2500:\n",
    "        bins.append('urban-cluster')\n",
    "    else:\n",
    "        bins.append('rural')\n",
    "\n",
    "df['urban_rural'] = bins"
   ]
  },
  {
   "cell_type": "code",
   "execution_count": 94,
   "metadata": {
    "ExecuteTime": {
     "end_time": "2020-11-25T00:31:51.915747Z",
     "start_time": "2020-11-25T00:31:51.899910Z"
    }
   },
   "outputs": [
    {
     "data": {
      "text/html": [
       "<div>\n",
       "<style scoped>\n",
       "    .dataframe tbody tr th:only-of-type {\n",
       "        vertical-align: middle;\n",
       "    }\n",
       "\n",
       "    .dataframe tbody tr th {\n",
       "        vertical-align: top;\n",
       "    }\n",
       "\n",
       "    .dataframe thead th {\n",
       "        text-align: right;\n",
       "    }\n",
       "</style>\n",
       "<table border=\"1\" class=\"dataframe\">\n",
       "  <thead>\n",
       "    <tr style=\"text-align: right;\">\n",
       "      <th></th>\n",
       "      <th>establishment_count</th>\n",
       "      <th>terminal_count</th>\n",
       "      <th>amount_played</th>\n",
       "      <th>amount_won</th>\n",
       "      <th>nti_tax</th>\n",
       "      <th>state_share</th>\n",
       "      <th>municipality_share</th>\n",
       "      <th>population</th>\n",
       "      <th>Example Column</th>\n",
       "      <th>terminals_percapita</th>\n",
       "      <th>amount_lost</th>\n",
       "      <th>loss_percapita</th>\n",
       "      <th>urban-rural</th>\n",
       "      <th>urban_rural</th>\n",
       "    </tr>\n",
       "    <tr>\n",
       "      <th>Municipality</th>\n",
       "      <th></th>\n",
       "      <th></th>\n",
       "      <th></th>\n",
       "      <th></th>\n",
       "      <th></th>\n",
       "      <th></th>\n",
       "      <th></th>\n",
       "      <th></th>\n",
       "      <th></th>\n",
       "      <th></th>\n",
       "      <th></th>\n",
       "      <th></th>\n",
       "      <th></th>\n",
       "      <th></th>\n",
       "    </tr>\n",
       "  </thead>\n",
       "  <tbody>\n",
       "    <tr>\n",
       "      <th>Abingdon</th>\n",
       "      <td>4</td>\n",
       "      <td>16</td>\n",
       "      <td>6492446.76</td>\n",
       "      <td>5968296.97</td>\n",
       "      <td>165040.02</td>\n",
       "      <td>138832.38</td>\n",
       "      <td>26207.64</td>\n",
       "      <td>3452</td>\n",
       "      <td>1</td>\n",
       "      <td>0.004635</td>\n",
       "      <td>524149.79</td>\n",
       "      <td>151.839452</td>\n",
       "      <td>1</td>\n",
       "      <td>urban-cluster</td>\n",
       "    </tr>\n",
       "    <tr>\n",
       "      <th>Addieville</th>\n",
       "      <td>1</td>\n",
       "      <td>5</td>\n",
       "      <td>939917.34</td>\n",
       "      <td>860520.60</td>\n",
       "      <td>25020.09</td>\n",
       "      <td>21050.20</td>\n",
       "      <td>3969.89</td>\n",
       "      <td>344</td>\n",
       "      <td>1</td>\n",
       "      <td>0.014535</td>\n",
       "      <td>79396.74</td>\n",
       "      <td>230.804477</td>\n",
       "      <td>0</td>\n",
       "      <td>rural</td>\n",
       "    </tr>\n",
       "    <tr>\n",
       "      <th>Addison</th>\n",
       "      <td>23</td>\n",
       "      <td>111</td>\n",
       "      <td>88623932.26</td>\n",
       "      <td>80762581.15</td>\n",
       "      <td>2476573.63</td>\n",
       "      <td>2083474.53</td>\n",
       "      <td>393099.10</td>\n",
       "      <td>37089</td>\n",
       "      <td>1</td>\n",
       "      <td>0.002993</td>\n",
       "      <td>7861351.11</td>\n",
       "      <td>211.959101</td>\n",
       "      <td>1</td>\n",
       "      <td>urban-cluster</td>\n",
       "    </tr>\n",
       "    <tr>\n",
       "      <th>Albany</th>\n",
       "      <td>2</td>\n",
       "      <td>7</td>\n",
       "      <td>2030709.60</td>\n",
       "      <td>1855397.39</td>\n",
       "      <td>55473.53</td>\n",
       "      <td>46707.84</td>\n",
       "      <td>8765.69</td>\n",
       "      <td>979</td>\n",
       "      <td>1</td>\n",
       "      <td>0.007150</td>\n",
       "      <td>175312.21</td>\n",
       "      <td>179.072737</td>\n",
       "      <td>0</td>\n",
       "      <td>rural</td>\n",
       "    </tr>\n",
       "    <tr>\n",
       "      <th>Albers</th>\n",
       "      <td>1</td>\n",
       "      <td>4</td>\n",
       "      <td>1546280.29</td>\n",
       "      <td>1419896.70</td>\n",
       "      <td>39710.50</td>\n",
       "      <td>33391.29</td>\n",
       "      <td>6319.21</td>\n",
       "      <td>1184</td>\n",
       "      <td>1</td>\n",
       "      <td>0.003378</td>\n",
       "      <td>126383.59</td>\n",
       "      <td>106.742897</td>\n",
       "      <td>0</td>\n",
       "      <td>rural</td>\n",
       "    </tr>\n",
       "  </tbody>\n",
       "</table>\n",
       "</div>"
      ],
      "text/plain": [
       "              establishment_count  terminal_count  amount_played   amount_won  \\\n",
       "Municipality                                                                    \n",
       "Abingdon                        4              16     6492446.76   5968296.97   \n",
       "Addieville                      1               5      939917.34    860520.60   \n",
       "Addison                        23             111    88623932.26  80762581.15   \n",
       "Albany                          2               7     2030709.60   1855397.39   \n",
       "Albers                          1               4     1546280.29   1419896.70   \n",
       "\n",
       "                 nti_tax  state_share  municipality_share  population  \\\n",
       "Municipality                                                            \n",
       "Abingdon       165040.02    138832.38            26207.64        3452   \n",
       "Addieville      25020.09     21050.20             3969.89         344   \n",
       "Addison       2476573.63   2083474.53           393099.10       37089   \n",
       "Albany          55473.53     46707.84             8765.69         979   \n",
       "Albers          39710.50     33391.29             6319.21        1184   \n",
       "\n",
       "              Example Column  terminals_percapita  amount_lost  \\\n",
       "Municipality                                                     \n",
       "Abingdon                   1             0.004635    524149.79   \n",
       "Addieville                 1             0.014535     79396.74   \n",
       "Addison                    1             0.002993   7861351.11   \n",
       "Albany                     1             0.007150    175312.21   \n",
       "Albers                     1             0.003378    126383.59   \n",
       "\n",
       "              loss_percapita  urban-rural    urban_rural  \n",
       "Municipality                                              \n",
       "Abingdon          151.839452            1  urban-cluster  \n",
       "Addieville        230.804477            0          rural  \n",
       "Addison           211.959101            1  urban-cluster  \n",
       "Albany            179.072737            0          rural  \n",
       "Albers            106.742897            0          rural  "
      ]
     },
     "execution_count": 94,
     "metadata": {},
     "output_type": "execute_result"
    }
   ],
   "source": [
    "df.head()"
   ]
  },
  {
   "cell_type": "markdown",
   "metadata": {},
   "source": [
    "### Task 17\n",
    "\n",
    "**Let's visualize our classified column**\n",
    "\n",
    "<u>In the cell below:</u>\n",
    "- Create a bar chart showing the number of municipalities for each urban-rural classification. "
   ]
  },
  {
   "cell_type": "code",
   "execution_count": 96,
   "metadata": {
    "ExecuteTime": {
     "end_time": "2020-11-25T00:32:23.484554Z",
     "start_time": "2020-11-25T00:32:23.323130Z"
    }
   },
   "outputs": [
    {
     "data": {
      "text/plain": [
       "<BarContainer object of 3 artists>"
      ]
     },
     "execution_count": 96,
     "metadata": {},
     "output_type": "execute_result"
    },
    {
     "data": {
      "image/png": "[encoded data removed]",
      "text/plain": [
       "<Figure size 432x288 with 1 Axes>"
      ]
     },
     "metadata": {
      "needs_background": "light"
     },
     "output_type": "display_data"
    }
   ],
   "source": [
    "# Your code here\n",
    "\n",
    "series = df.urban_rural.value_counts()\n",
    "plt.bar(series.index, series.values)"
   ]
  },
  {
   "cell_type": "markdown",
   "metadata": {},
   "source": [
    "### Task 18"
   ]
  },
  {
   "cell_type": "markdown",
   "metadata": {
    "ExecuteTime": {
     "end_time": "2020-05-17T02:18:33.975014Z",
     "start_time": "2020-05-17T02:18:33.849160Z"
    }
   },
   "source": [
    "<u>In the cell(s) below:</u>\n",
    "1. Filter our dataframe to contain municipalities with a ```loss_percapita``` of 406 or greater. \n",
    "    - Save this filtered dataframe as ```high_loss_percapita```\n",
    "2. Filter our dataframe to contain municipalities with a ```loss_percapita``` of 155 or less.\n",
    "    - Save this filtered dataframe as ```low_loss_percapita```\n",
    "3. Identify the mean population for the municipalities with a high per capita loss\n",
    "    - Using numpy, round this data point to 2 decimals\n",
    "    - Save this data point as the variable ```high_loss_average_population```\n",
    "\n",
    "4. Identify the mean population for the municipalities with a low per capita loss.\n",
    "    - Using numpy round this data point to 2 decimals\n",
    "    - Save this data point as the variable ```low_loss_average_population```  "
   ]
  },
  {
   "cell_type": "code",
   "execution_count": 100,
   "metadata": {
    "ExecuteTime": {
     "end_time": "2020-11-25T00:36:00.188353Z",
     "start_time": "2020-11-25T00:36:00.182769Z"
    }
   },
   "outputs": [],
   "source": [
    "# Your code here\n",
    "high_loss_percapita = df[df.loss_percapita >= 406]\n",
    "low_loss_percapita = df[df.loss_percapita <= 155]\n",
    "high_loss_average_population = np.round(high_loss_percapita.population.mean(), 2)\n",
    "low_loss_average_population = np.round(low_loss_percapita.population.mean(), 2)"
   ]
  },
  {
   "cell_type": "markdown",
   "metadata": {
    "ExecuteTime": {
     "end_time": "2020-05-17T02:38:58.820615Z",
     "start_time": "2020-05-17T02:38:58.816687Z"
    }
   },
   "source": [
    "Run the cell below to see if you identified the correct averages!"
   ]
  },
  {
   "cell_type": "code",
   "execution_count": 101,
   "metadata": {
    "ExecuteTime": {
     "end_time": "2020-11-25T00:36:03.217150Z",
     "start_time": "2020-11-25T00:36:03.211368Z"
    }
   },
   "outputs": [
    {
     "data": {
      "text/markdown": [
       "✅ **Hey, you did it.  Good job.**"
      ],
      "text/plain": [
       "<IPython.core.display.Markdown object>"
      ]
     },
     "metadata": {},
     "output_type": "display_data"
    },
    {
     "data": {
      "text/markdown": [
       "✅ **Hey, you did it.  Good job.**"
      ],
      "text/plain": [
       "<IPython.core.display.Markdown object>"
      ]
     },
     "metadata": {},
     "output_type": "display_data"
    }
   ],
   "source": [
    "testing.run_test(high_loss_average_population, 'high_loss_average_population')\n",
    "testing.run_test(low_loss_average_population, 'low_loss_average_population')"
   ]
  },
  {
   "cell_type": "markdown",
   "metadata": {},
   "source": [
    "**Run this cell below to visualize the average population for high loss and low loss percapita communities**"
   ]
  },
  {
   "cell_type": "code",
   "execution_count": 102,
   "metadata": {
    "ExecuteTime": {
     "end_time": "2020-11-25T00:36:12.097114Z",
     "start_time": "2020-11-25T00:36:11.914691Z"
    }
   },
   "outputs": [
    {
     "data": {
      "image/png": "[encoded data removed]",
      "text/plain": [
       "<Figure size 432x288 with 1 Axes>"
      ]
     },
     "metadata": {
      "needs_background": "light"
     },
     "output_type": "display_data"
    }
   ],
   "source": [
    "x = ['Low Loss', 'High Loss']\n",
    "y = [low_loss_average_population, high_loss_average_population]\n",
    "\n",
    "plt.bar(x,y)\n",
    "plt.title('Average Population of Municipalities According To Gambling Loss Per Capita');"
   ]
  },
  {
   "cell_type": "code",
   "execution_count": 107,
   "metadata": {
    "ExecuteTime": {
     "end_time": "2020-11-25T00:40:49.427360Z",
     "start_time": "2020-11-25T00:40:49.401257Z"
    }
   },
   "outputs": [
    {
     "data": {
      "text/html": [
       "<div>\n",
       "<style scoped>\n",
       "    .dataframe tbody tr th:only-of-type {\n",
       "        vertical-align: middle;\n",
       "    }\n",
       "\n",
       "    .dataframe tbody tr th {\n",
       "        vertical-align: top;\n",
       "    }\n",
       "\n",
       "    .dataframe thead th {\n",
       "        text-align: right;\n",
       "    }\n",
       "</style>\n",
       "<table border=\"1\" class=\"dataframe\">\n",
       "  <thead>\n",
       "    <tr style=\"text-align: right;\">\n",
       "      <th></th>\n",
       "      <th>establishment_count</th>\n",
       "      <th>terminal_count</th>\n",
       "      <th>amount_played</th>\n",
       "      <th>amount_won</th>\n",
       "      <th>nti_tax</th>\n",
       "      <th>state_share</th>\n",
       "      <th>municipality_share</th>\n",
       "      <th>population</th>\n",
       "      <th>terminals_percapita</th>\n",
       "      <th>amount_lost</th>\n",
       "      <th>loss_percapita</th>\n",
       "      <th>urban-rural</th>\n",
       "      <th>urban_rural</th>\n",
       "    </tr>\n",
       "    <tr>\n",
       "      <th>Municipality</th>\n",
       "      <th></th>\n",
       "      <th></th>\n",
       "      <th></th>\n",
       "      <th></th>\n",
       "      <th></th>\n",
       "      <th></th>\n",
       "      <th></th>\n",
       "      <th></th>\n",
       "      <th></th>\n",
       "      <th></th>\n",
       "      <th></th>\n",
       "      <th></th>\n",
       "      <th></th>\n",
       "    </tr>\n",
       "  </thead>\n",
       "  <tbody>\n",
       "    <tr>\n",
       "      <th>Abingdon</th>\n",
       "      <td>4</td>\n",
       "      <td>16</td>\n",
       "      <td>6492446.76</td>\n",
       "      <td>5968296.97</td>\n",
       "      <td>165040.02</td>\n",
       "      <td>138832.38</td>\n",
       "      <td>26207.64</td>\n",
       "      <td>3452</td>\n",
       "      <td>0.004635</td>\n",
       "      <td>524149.79</td>\n",
       "      <td>151.839452</td>\n",
       "      <td>1</td>\n",
       "      <td>urban-cluster</td>\n",
       "    </tr>\n",
       "    <tr>\n",
       "      <th>Addieville</th>\n",
       "      <td>1</td>\n",
       "      <td>5</td>\n",
       "      <td>939917.34</td>\n",
       "      <td>860520.60</td>\n",
       "      <td>25020.09</td>\n",
       "      <td>21050.20</td>\n",
       "      <td>3969.89</td>\n",
       "      <td>344</td>\n",
       "      <td>0.014535</td>\n",
       "      <td>79396.74</td>\n",
       "      <td>230.804477</td>\n",
       "      <td>0</td>\n",
       "      <td>rural</td>\n",
       "    </tr>\n",
       "    <tr>\n",
       "      <th>Addison</th>\n",
       "      <td>23</td>\n",
       "      <td>111</td>\n",
       "      <td>88623932.26</td>\n",
       "      <td>80762581.15</td>\n",
       "      <td>2476573.63</td>\n",
       "      <td>2083474.53</td>\n",
       "      <td>393099.10</td>\n",
       "      <td>37089</td>\n",
       "      <td>0.002993</td>\n",
       "      <td>7861351.11</td>\n",
       "      <td>211.959101</td>\n",
       "      <td>1</td>\n",
       "      <td>urban-cluster</td>\n",
       "    </tr>\n",
       "    <tr>\n",
       "      <th>Albany</th>\n",
       "      <td>2</td>\n",
       "      <td>7</td>\n",
       "      <td>2030709.60</td>\n",
       "      <td>1855397.39</td>\n",
       "      <td>55473.53</td>\n",
       "      <td>46707.84</td>\n",
       "      <td>8765.69</td>\n",
       "      <td>979</td>\n",
       "      <td>0.007150</td>\n",
       "      <td>175312.21</td>\n",
       "      <td>179.072737</td>\n",
       "      <td>0</td>\n",
       "      <td>rural</td>\n",
       "    </tr>\n",
       "    <tr>\n",
       "      <th>Albers</th>\n",
       "      <td>1</td>\n",
       "      <td>4</td>\n",
       "      <td>1546280.29</td>\n",
       "      <td>1419896.70</td>\n",
       "      <td>39710.50</td>\n",
       "      <td>33391.29</td>\n",
       "      <td>6319.21</td>\n",
       "      <td>1184</td>\n",
       "      <td>0.003378</td>\n",
       "      <td>126383.59</td>\n",
       "      <td>106.742897</td>\n",
       "      <td>0</td>\n",
       "      <td>rural</td>\n",
       "    </tr>\n",
       "    <tr>\n",
       "      <th>...</th>\n",
       "      <td>...</td>\n",
       "      <td>...</td>\n",
       "      <td>...</td>\n",
       "      <td>...</td>\n",
       "      <td>...</td>\n",
       "      <td>...</td>\n",
       "      <td>...</td>\n",
       "      <td>...</td>\n",
       "      <td>...</td>\n",
       "      <td>...</td>\n",
       "      <td>...</td>\n",
       "      <td>...</td>\n",
       "      <td>...</td>\n",
       "    </tr>\n",
       "    <tr>\n",
       "      <th>Wyoming</th>\n",
       "      <td>4</td>\n",
       "      <td>14</td>\n",
       "      <td>5175796.61</td>\n",
       "      <td>4750570.47</td>\n",
       "      <td>134733.65</td>\n",
       "      <td>113472.25</td>\n",
       "      <td>21261.40</td>\n",
       "      <td>1365</td>\n",
       "      <td>0.010256</td>\n",
       "      <td>425226.14</td>\n",
       "      <td>311.520982</td>\n",
       "      <td>0</td>\n",
       "      <td>rural</td>\n",
       "    </tr>\n",
       "    <tr>\n",
       "      <th>Yates City</th>\n",
       "      <td>2</td>\n",
       "      <td>9</td>\n",
       "      <td>2312753.96</td>\n",
       "      <td>2112213.03</td>\n",
       "      <td>62885.85</td>\n",
       "      <td>52858.72</td>\n",
       "      <td>10027.13</td>\n",
       "      <td>739</td>\n",
       "      <td>0.012179</td>\n",
       "      <td>200540.93</td>\n",
       "      <td>271.367970</td>\n",
       "      <td>0</td>\n",
       "      <td>rural</td>\n",
       "    </tr>\n",
       "    <tr>\n",
       "      <th>Yorkville</th>\n",
       "      <td>17</td>\n",
       "      <td>82</td>\n",
       "      <td>34644816.40</td>\n",
       "      <td>31807129.97</td>\n",
       "      <td>891425.19</td>\n",
       "      <td>749532.91</td>\n",
       "      <td>141892.28</td>\n",
       "      <td>19145</td>\n",
       "      <td>0.004283</td>\n",
       "      <td>2837686.43</td>\n",
       "      <td>148.220759</td>\n",
       "      <td>1</td>\n",
       "      <td>urban-cluster</td>\n",
       "    </tr>\n",
       "    <tr>\n",
       "      <th>Zeigler</th>\n",
       "      <td>2</td>\n",
       "      <td>10</td>\n",
       "      <td>6313807.67</td>\n",
       "      <td>5800470.01</td>\n",
       "      <td>161690.11</td>\n",
       "      <td>136023.12</td>\n",
       "      <td>25666.99</td>\n",
       "      <td>1836</td>\n",
       "      <td>0.005447</td>\n",
       "      <td>513337.66</td>\n",
       "      <td>279.595675</td>\n",
       "      <td>0</td>\n",
       "      <td>rural</td>\n",
       "    </tr>\n",
       "    <tr>\n",
       "      <th>Zion</th>\n",
       "      <td>8</td>\n",
       "      <td>40</td>\n",
       "      <td>55554420.63</td>\n",
       "      <td>50732129.76</td>\n",
       "      <td>1519326.98</td>\n",
       "      <td>1278211.05</td>\n",
       "      <td>241115.93</td>\n",
       "      <td>24047</td>\n",
       "      <td>0.001663</td>\n",
       "      <td>4822290.87</td>\n",
       "      <td>200.536070</td>\n",
       "      <td>1</td>\n",
       "      <td>urban-cluster</td>\n",
       "    </tr>\n",
       "  </tbody>\n",
       "</table>\n",
       "<p>835 rows × 13 columns</p>\n",
       "</div>"
      ],
      "text/plain": [
       "              establishment_count  terminal_count  amount_played   amount_won  \\\n",
       "Municipality                                                                    \n",
       "Abingdon                        4              16     6492446.76   5968296.97   \n",
       "Addieville                      1               5      939917.34    860520.60   \n",
       "Addison                        23             111    88623932.26  80762581.15   \n",
       "Albany                          2               7     2030709.60   1855397.39   \n",
       "Albers                          1               4     1546280.29   1419896.70   \n",
       "...                           ...             ...            ...          ...   \n",
       "Wyoming                         4              14     5175796.61   4750570.47   \n",
       "Yates City                      2               9     2312753.96   2112213.03   \n",
       "Yorkville                      17              82    34644816.40  31807129.97   \n",
       "Zeigler                         2              10     6313807.67   5800470.01   \n",
       "Zion                            8              40    55554420.63  50732129.76   \n",
       "\n",
       "                 nti_tax  state_share  municipality_share  population  \\\n",
       "Municipality                                                            \n",
       "Abingdon       165040.02    138832.38            26207.64        3452   \n",
       "Addieville      25020.09     21050.20             3969.89         344   \n",
       "Addison       2476573.63   2083474.53           393099.10       37089   \n",
       "Albany          55473.53     46707.84             8765.69         979   \n",
       "Albers          39710.50     33391.29             6319.21        1184   \n",
       "...                  ...          ...                 ...         ...   \n",
       "Wyoming        134733.65    113472.25            21261.40        1365   \n",
       "Yates City      62885.85     52858.72            10027.13         739   \n",
       "Yorkville      891425.19    749532.91           141892.28       19145   \n",
       "Zeigler        161690.11    136023.12            25666.99        1836   \n",
       "Zion          1519326.98   1278211.05           241115.93       24047   \n",
       "\n",
       "              terminals_percapita  amount_lost  loss_percapita  urban-rural  \\\n",
       "Municipality                                                                  \n",
       "Abingdon                 0.004635    524149.79      151.839452            1   \n",
       "Addieville               0.014535     79396.74      230.804477            0   \n",
       "Addison                  0.002993   7861351.11      211.959101            1   \n",
       "Albany                   0.007150    175312.21      179.072737            0   \n",
       "Albers                   0.003378    126383.59      106.742897            0   \n",
       "...                           ...          ...             ...          ...   \n",
       "Wyoming                  0.010256    425226.14      311.520982            0   \n",
       "Yates City               0.012179    200540.93      271.367970            0   \n",
       "Yorkville                0.004283   2837686.43      148.220759            1   \n",
       "Zeigler                  0.005447    513337.66      279.595675            0   \n",
       "Zion                     0.001663   4822290.87      200.536070            1   \n",
       "\n",
       "                urban_rural  \n",
       "Municipality                 \n",
       "Abingdon      urban-cluster  \n",
       "Addieville            rural  \n",
       "Addison       urban-cluster  \n",
       "Albany                rural  \n",
       "Albers                rural  \n",
       "...                     ...  \n",
       "Wyoming               rural  \n",
       "Yates City            rural  \n",
       "Yorkville     urban-cluster  \n",
       "Zeigler               rural  \n",
       "Zion          urban-cluster  \n",
       "\n",
       "[835 rows x 13 columns]"
      ]
     },
     "execution_count": 107,
     "metadata": {},
     "output_type": "execute_result"
    }
   ],
   "source": [
    "df.drop('Example Column', axis = 1)"
   ]
  },
  {
   "cell_type": "code",
   "execution_count": 109,
   "metadata": {
    "ExecuteTime": {
     "end_time": "2020-11-25T00:41:14.483179Z",
     "start_time": "2020-11-25T00:41:14.470779Z"
    }
   },
   "outputs": [
    {
     "data": {
      "text/html": [
       "<div>\n",
       "<style scoped>\n",
       "    .dataframe tbody tr th:only-of-type {\n",
       "        vertical-align: middle;\n",
       "    }\n",
       "\n",
       "    .dataframe tbody tr th {\n",
       "        vertical-align: top;\n",
       "    }\n",
       "\n",
       "    .dataframe thead th {\n",
       "        text-align: right;\n",
       "    }\n",
       "</style>\n",
       "<table border=\"1\" class=\"dataframe\">\n",
       "  <thead>\n",
       "    <tr style=\"text-align: right;\">\n",
       "      <th></th>\n",
       "      <th>terminal_count</th>\n",
       "      <th>amount_played</th>\n",
       "      <th>amount_won</th>\n",
       "      <th>nti_tax</th>\n",
       "    </tr>\n",
       "    <tr>\n",
       "      <th>Municipality</th>\n",
       "      <th></th>\n",
       "      <th></th>\n",
       "      <th></th>\n",
       "      <th></th>\n",
       "    </tr>\n",
       "  </thead>\n",
       "  <tbody>\n",
       "    <tr>\n",
       "      <th>Abingdon</th>\n",
       "      <td>16</td>\n",
       "      <td>6492446.76</td>\n",
       "      <td>5968296.97</td>\n",
       "      <td>165040.02</td>\n",
       "    </tr>\n",
       "    <tr>\n",
       "      <th>Addieville</th>\n",
       "      <td>5</td>\n",
       "      <td>939917.34</td>\n",
       "      <td>860520.60</td>\n",
       "      <td>25020.09</td>\n",
       "    </tr>\n",
       "    <tr>\n",
       "      <th>Addison</th>\n",
       "      <td>111</td>\n",
       "      <td>88623932.26</td>\n",
       "      <td>80762581.15</td>\n",
       "      <td>2476573.63</td>\n",
       "    </tr>\n",
       "    <tr>\n",
       "      <th>Albany</th>\n",
       "      <td>7</td>\n",
       "      <td>2030709.60</td>\n",
       "      <td>1855397.39</td>\n",
       "      <td>55473.53</td>\n",
       "    </tr>\n",
       "    <tr>\n",
       "      <th>Albers</th>\n",
       "      <td>4</td>\n",
       "      <td>1546280.29</td>\n",
       "      <td>1419896.70</td>\n",
       "      <td>39710.50</td>\n",
       "    </tr>\n",
       "    <tr>\n",
       "      <th>...</th>\n",
       "      <td>...</td>\n",
       "      <td>...</td>\n",
       "      <td>...</td>\n",
       "      <td>...</td>\n",
       "    </tr>\n",
       "    <tr>\n",
       "      <th>Wyoming</th>\n",
       "      <td>14</td>\n",
       "      <td>5175796.61</td>\n",
       "      <td>4750570.47</td>\n",
       "      <td>134733.65</td>\n",
       "    </tr>\n",
       "    <tr>\n",
       "      <th>Yates City</th>\n",
       "      <td>9</td>\n",
       "      <td>2312753.96</td>\n",
       "      <td>2112213.03</td>\n",
       "      <td>62885.85</td>\n",
       "    </tr>\n",
       "    <tr>\n",
       "      <th>Yorkville</th>\n",
       "      <td>82</td>\n",
       "      <td>34644816.40</td>\n",
       "      <td>31807129.97</td>\n",
       "      <td>891425.19</td>\n",
       "    </tr>\n",
       "    <tr>\n",
       "      <th>Zeigler</th>\n",
       "      <td>10</td>\n",
       "      <td>6313807.67</td>\n",
       "      <td>5800470.01</td>\n",
       "      <td>161690.11</td>\n",
       "    </tr>\n",
       "    <tr>\n",
       "      <th>Zion</th>\n",
       "      <td>40</td>\n",
       "      <td>55554420.63</td>\n",
       "      <td>50732129.76</td>\n",
       "      <td>1519326.98</td>\n",
       "    </tr>\n",
       "  </tbody>\n",
       "</table>\n",
       "<p>835 rows × 4 columns</p>\n",
       "</div>"
      ],
      "text/plain": [
       "              terminal_count  amount_played   amount_won     nti_tax\n",
       "Municipality                                                        \n",
       "Abingdon                  16     6492446.76   5968296.97   165040.02\n",
       "Addieville                 5      939917.34    860520.60    25020.09\n",
       "Addison                  111    88623932.26  80762581.15  2476573.63\n",
       "Albany                     7     2030709.60   1855397.39    55473.53\n",
       "Albers                     4     1546280.29   1419896.70    39710.50\n",
       "...                      ...            ...          ...         ...\n",
       "Wyoming                   14     5175796.61   4750570.47   134733.65\n",
       "Yates City                 9     2312753.96   2112213.03    62885.85\n",
       "Yorkville                 82    34644816.40  31807129.97   891425.19\n",
       "Zeigler                   10     6313807.67   5800470.01   161690.11\n",
       "Zion                      40    55554420.63  50732129.76  1519326.98\n",
       "\n",
       "[835 rows x 4 columns]"
      ]
     },
     "execution_count": 109,
     "metadata": {},
     "output_type": "execute_result"
    }
   ],
   "source": [
    "df[['terminal_count',\n",
    " 'amount_played',\n",
    " 'amount_won',\n",
    " 'nti_tax']]"
   ]
  },
  {
   "cell_type": "code",
   "execution_count": null,
   "metadata": {},
   "outputs": [],
   "source": []
  }
 ],
 "metadata": {
  "hide_input": false,
  "kernelspec": {
   "display_name": "Python 3",
   "language": "python",
   "name": "python3"
  },
  "language_info": {
   "codemirror_mode": {
    "name": "ipython",
    "version": 3
   },
   "file_extension": ".py",
   "mimetype": "text/x-python",
   "name": "python",
   "nbconvert_exporter": "python",
   "pygments_lexer": "ipython3",
   "version": "3.7.4"
  },
  "toc": {
   "base_numbering": 1,
   "nav_menu": {},
   "number_sections": false,
   "sideBar": true,
   "skip_h1_title": true,
   "title_cell": "Table of Contents",
   "title_sidebar": "Contents",
   "toc_cell": false,
   "toc_position": {},
   "toc_section_display": true,
   "toc_window_display": false
  },
  "varInspector": {
   "cols": {
    "lenName": 16,
    "lenType": 16,
    "lenVar": 40
   },
   "kernels_config": {
    "python": {
     "delete_cmd_postfix": "",
     "delete_cmd_prefix": "del ",
     "library": "var_list.py",
     "varRefreshCmd": "print(var_dic_list())"
    },
    "r": {
     "delete_cmd_postfix": ") ",
     "delete_cmd_prefix": "rm(",
     "library": "var_list.r",
     "varRefreshCmd": "cat(var_dic_list()) "
    }
   },
   "types_to_exclude": [
    "module",
    "function",
    "builtin_function_or_method",
    "instance",
    "_Feature"
   ],
   "window_display": false
  }
 },
 "nbformat": 4,
 "nbformat_minor": 4
}
